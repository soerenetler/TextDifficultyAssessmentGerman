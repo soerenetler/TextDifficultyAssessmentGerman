{
 "cells": [
  {
   "cell_type": "code",
   "execution_count": 1,
   "metadata": {},
   "outputs": [
    {
     "name": "stderr",
     "output_type": "stream",
     "text": [
      "100%|██████████| 9/9 [00:25<00:00,  2.82s/it]\n"
     ]
    }
   ],
   "source": [
    "from math import log \n",
    "from collections import defaultdict\n",
    "from tqdm import tqdm\n",
    "\n",
    "frequencyFileList = [\"5000frequency.txt\", \"10000frequency.txt\", \"15000frequency.txt\", \"20000frequency.txt\", \"25000frequency.txt\", \"30000frequency.txt\", \"35000frequency.txt\", \"40000frequency.txt\", \"45000frequency.txt\"]\n",
    "freqdict = defaultdict(int)\n",
    "\n",
    "for fileName in tqdm(frequencyFileList):\n",
    "    file = open(\"frequencyLists/\" + fileName)\n",
    "    allString = file.read()\n",
    "    for index, word in enumerate(allString.split(\" \")[1::2]):\n",
    "        freqdict[word] = int(allString.split(\" \")[index*2])"
   ]
  },
  {
   "cell_type": "code",
   "execution_count": 2,
   "metadata": {},
   "outputs": [],
   "source": [
    "from spellchecker import SpellChecker\n",
    "\n",
    "spell = SpellChecker(language='de')\n",
    "\n",
    "def lookup(string, spell=spell):\n",
    "    try:\n",
    "        return freqdict[string]\n",
    "    except:\n",
    "        try:\n",
    "            return freqdict[spell.correction(string)]\n",
    "        except:\n",
    "            return 0"
   ]
  },
  {
   "cell_type": "code",
   "execution_count": null,
   "metadata": {},
   "outputs": [],
   "source": []
  },
  {
   "cell_type": "code",
   "execution_count": 3,
   "metadata": {
    "scrolled": true
   },
   "outputs": [
    {
     "data": {
      "text/html": [
       "<div>\n",
       "<style scoped>\n",
       "    .dataframe tbody tr th:only-of-type {\n",
       "        vertical-align: middle;\n",
       "    }\n",
       "\n",
       "    .dataframe tbody tr th {\n",
       "        vertical-align: top;\n",
       "    }\n",
       "\n",
       "    .dataframe thead th {\n",
       "        text-align: right;\n",
       "    }\n",
       "</style>\n",
       "<table border=\"1\" class=\"dataframe\">\n",
       "  <thead>\n",
       "    <tr style=\"text-align: right;\">\n",
       "      <th></th>\n",
       "      <th>Level</th>\n",
       "      <th>Title</th>\n",
       "      <th>Text</th>\n",
       "      <th>Source</th>\n",
       "      <th>Type</th>\n",
       "      <th>cleanedText</th>\n",
       "      <th>RFTagger</th>\n",
       "      <th>parsedText</th>\n",
       "    </tr>\n",
       "  </thead>\n",
       "  <tbody>\n",
       "    <tr>\n",
       "      <th>0</th>\n",
       "      <td>A1</td>\n",
       "      <td>Meine Familie</td>\n",
       "      <td>Zu meiner Familie gehören vier Personen. Die M...</td>\n",
       "      <td>https://german.net/reading/familie/</td>\n",
       "      <td>Reading</td>\n",
       "      <td>Zu meiner Familie gehören vier Personen. Die M...</td>\n",
       "      <td>[[['Zu', 'APPR', 'Dat'], ['meiner', 'PRO', 'Po...</td>\n",
       "      <td>['(ROOT (S (PP (APPR Zu) (PPOSAT meiner) (NN F...</td>\n",
       "    </tr>\n",
       "    <tr>\n",
       "      <th>1</th>\n",
       "      <td>A1</td>\n",
       "      <td>Maria und ihre Familie</td>\n",
       "      <td>Mein Name ist Maria. Ich bin 30 Jahre alt. Zu ...</td>\n",
       "      <td>https://german.net/reading/marias-familie/</td>\n",
       "      <td>Reading</td>\n",
       "      <td>Mein Name ist Maria. Ich bin 30 Jahre alt. Zu ...</td>\n",
       "      <td>[[['Mein', 'PRO', 'Poss', 'Attr', '-', 'Nom', ...</td>\n",
       "      <td>['(ROOT (S (NP (PPOSAT Mein) (NN Name)) (VAFIN...</td>\n",
       "    </tr>\n",
       "    <tr>\n",
       "      <th>2</th>\n",
       "      <td>A1</td>\n",
       "      <td>Ich bin Tom</td>\n",
       "      <td>Hallo! Ich bin Tom Maier. Ich bin 13 Jahre alt...</td>\n",
       "      <td>https://german.net/reading/tom/</td>\n",
       "      <td>Reading</td>\n",
       "      <td>Hallo! Ich bin Tom Maier. Ich bin 13 Jahre alt...</td>\n",
       "      <td>[[['Hallo', 'ITJ'], ['!', 'SYM', 'Pun', 'Sent'...</td>\n",
       "      <td>['(ROOT (NUR (ITJ Hallo) ($. !)))', '(ROOT (S ...</td>\n",
       "    </tr>\n",
       "    <tr>\n",
       "      <th>3</th>\n",
       "      <td>A1</td>\n",
       "      <td>Freundinnen</td>\n",
       "      <td>Ricarda ist 21 Jahre alt und wohnt in Lübeck. ...</td>\n",
       "      <td>https://german.net/reading/freundinnen/</td>\n",
       "      <td>Reading</td>\n",
       "      <td>Ricarda ist 21 Jahre alt und wohnt in Lübeck. ...</td>\n",
       "      <td>[[['Ricarda', 'N', 'Name', 'Nom', 'Sg', 'Fem']...</td>\n",
       "      <td>['(ROOT (CS (S (NE Ricarda) (VAFIN ist) (AP (N...</td>\n",
       "    </tr>\n",
       "    <tr>\n",
       "      <th>4</th>\n",
       "      <td>A1</td>\n",
       "      <td>Einkaufen im Supermarkt</td>\n",
       "      <td>Frau Meier geht heute in den Supermarkt. Ihr M...</td>\n",
       "      <td>https://german.net/reading/einkaufen/</td>\n",
       "      <td>Reading</td>\n",
       "      <td>Frau Meier geht heute in den Supermarkt. Ihr M...</td>\n",
       "      <td>[[['Frau', 'N', 'Reg', 'Nom', 'Sg', 'Fem'], ['...</td>\n",
       "      <td>['(ROOT (S (NP (NN Frau) (NE Meier)) (VVFIN ge...</td>\n",
       "    </tr>\n",
       "  </tbody>\n",
       "</table>\n",
       "</div>"
      ],
      "text/plain": [
       "  Level                    Title  \\\n",
       "0    A1            Meine Familie   \n",
       "1    A1   Maria und ihre Familie   \n",
       "2    A1              Ich bin Tom   \n",
       "3    A1              Freundinnen   \n",
       "4    A1  Einkaufen im Supermarkt   \n",
       "\n",
       "                                                Text  \\\n",
       "0  Zu meiner Familie gehören vier Personen. Die M...   \n",
       "1  Mein Name ist Maria. Ich bin 30 Jahre alt. Zu ...   \n",
       "2  Hallo! Ich bin Tom Maier. Ich bin 13 Jahre alt...   \n",
       "3  Ricarda ist 21 Jahre alt und wohnt in Lübeck. ...   \n",
       "4  Frau Meier geht heute in den Supermarkt. Ihr M...   \n",
       "\n",
       "                                       Source     Type  \\\n",
       "0         https://german.net/reading/familie/  Reading   \n",
       "1  https://german.net/reading/marias-familie/  Reading   \n",
       "2             https://german.net/reading/tom/  Reading   \n",
       "3     https://german.net/reading/freundinnen/  Reading   \n",
       "4       https://german.net/reading/einkaufen/  Reading   \n",
       "\n",
       "                                         cleanedText  \\\n",
       "0  Zu meiner Familie gehören vier Personen. Die M...   \n",
       "1  Mein Name ist Maria. Ich bin 30 Jahre alt. Zu ...   \n",
       "2  Hallo! Ich bin Tom Maier. Ich bin 13 Jahre alt...   \n",
       "3  Ricarda ist 21 Jahre alt und wohnt in Lübeck. ...   \n",
       "4  Frau Meier geht heute in den Supermarkt. Ihr M...   \n",
       "\n",
       "                                            RFTagger  \\\n",
       "0  [[['Zu', 'APPR', 'Dat'], ['meiner', 'PRO', 'Po...   \n",
       "1  [[['Mein', 'PRO', 'Poss', 'Attr', '-', 'Nom', ...   \n",
       "2  [[['Hallo', 'ITJ'], ['!', 'SYM', 'Pun', 'Sent'...   \n",
       "3  [[['Ricarda', 'N', 'Name', 'Nom', 'Sg', 'Fem']...   \n",
       "4  [[['Frau', 'N', 'Reg', 'Nom', 'Sg', 'Fem'], ['...   \n",
       "\n",
       "                                          parsedText  \n",
       "0  ['(ROOT (S (PP (APPR Zu) (PPOSAT meiner) (NN F...  \n",
       "1  ['(ROOT (S (NP (PPOSAT Mein) (NN Name)) (VAFIN...  \n",
       "2  ['(ROOT (NUR (ITJ Hallo) ($. !)))', '(ROOT (S ...  \n",
       "3  ['(ROOT (CS (S (NE Ricarda) (VAFIN ist) (AP (N...  \n",
       "4  ['(ROOT (S (NP (NN Frau) (NE Meier)) (VVFIN ge...  "
      ]
     },
     "metadata": {},
     "output_type": "display_data"
    }
   ],
   "source": [
    "import pandas as pd\n",
    "df=pd.read_csv(r\"preprocessed_text_df.csv\", sep=\"|\", lineterminator='\\n')\n",
    "import ast\n",
    "display(df.head())\n",
    "df[\"preprocessedText\"]  = [ast.literal_eval(text) for text in df[\"RFTagger\"]]"
   ]
  },
  {
   "cell_type": "code",
   "execution_count": 4,
   "metadata": {},
   "outputs": [
    {
     "name": "stderr",
     "output_type": "stream",
     "text": [
      "100%|██████████| 1138/1138 [00:00<00:00, 3882.70it/s]\n"
     ]
    }
   ],
   "source": [
    "import numpy as np\n",
    "\n",
    "\n",
    "meanFreq = []\n",
    "medianFreq = []\n",
    "stdFreq = []\n",
    "\n",
    "for text in tqdm(df[\"preprocessedText\"]):\n",
    "    freqvalues=[]\n",
    "    \n",
    "    for sentence in text:\n",
    "        for word in sentence:\n",
    "            if word[1]!= \"SYM\":\n",
    "                freqvalues.append(lookup(word[0]))\n",
    "    \n",
    "    meanFreq.append(np.mean(freqvalues))\n",
    "    medianFreq.append(np.median(freqvalues))\n",
    "    stdFreq.append(np.std(freqvalues))\n",
    "    \n",
    "df[\"meanFreq\"] = meanFreq\n",
    "df[\"medianFreq\"] = medianFreq\n",
    "df[\"stdFreq\"] = stdFreq"
   ]
  },
  {
   "cell_type": "code",
   "execution_count": 5,
   "metadata": {},
   "outputs": [
    {
     "data": {
      "text/plain": [
       "<matplotlib.figure.Figure at 0x7f334a7c87f0>"
      ]
     },
     "metadata": {},
     "output_type": "display_data"
    }
   ],
   "source": [
    "import matplotlib.pyplot as plt\n",
    "\n",
    "plt.scatter(df[\"Level\"], df[\"meanFreq\"])\n",
    "plt.title(\"meanFreq\")\n",
    "plt.show()"
   ]
  },
  {
   "cell_type": "code",
   "execution_count": null,
   "metadata": {},
   "outputs": [],
   "source": []
  },
  {
   "cell_type": "code",
   "execution_count": null,
   "metadata": {},
   "outputs": [],
   "source": []
  },
  {
   "cell_type": "code",
   "execution_count": 16,
   "metadata": {},
   "outputs": [
    {
     "data": {
      "image/png": "[encoded data removed]",
      "text/plain": [
       "<matplotlib.figure.Figure at 0x7f332428dc50>"
      ]
     },
     "metadata": {},
     "output_type": "display_data"
    }
   ],
   "source": [
    "import math\n",
    "a1 = df.loc[df['Level'] == \"A1\"]['meanFreq']\n",
    "a2 = df.loc[df['Level'] == \"A2\"]['meanFreq']\n",
    "b1 = df.loc[df['Level'] == \"B1\"]['meanFreq']\n",
    "b2 = df.loc[df['Level'] == \"B2\"]['meanFreq']\n",
    "c1 = df.loc[df['Level'] == \"C1\"]['meanFreq']\n",
    "c2 = df.loc[df['Level'] == \"C2\"]['meanFreq']\n",
    "\n",
    "bins = np.linspace(0, 200000, 50)\n",
    "\n",
    "plt.hist(a1, bins, alpha=0.5, label='a1')\n",
    "plt.hist(a2, bins, alpha=0.5, label='a2')\n",
    "plt.hist(b1, bins, alpha=0.5, label='b1')\n",
    "plt.hist(b2, bins, alpha=0.5, label='b2')\n",
    "plt.hist(c1, bins, alpha=0.5, label='c1')\n",
    "plt.hist(c2, bins, alpha=0.5, label='c2')\n",
    "\n",
    "plt.legend(loc='upper right')\n",
    "plt.show()"
   ]
  },
  {
   "cell_type": "code",
   "execution_count": 15,
   "metadata": {},
   "outputs": [
    {
     "name": "stdout",
     "output_type": "stream",
     "text": [
      "62451.15115791996\n",
      "66595.05659171546\n",
      "73226.25400749201\n",
      "78119.64917705527\n",
      "78821.43848778894\n",
      "76751.12382841148\n"
     ]
    }
   ],
   "source": [
    "print(np.mean(df.loc[df['Level'] == \"A1\"]['meanFreq']))\n",
    "print(np.mean(df.loc[df['Level'] == \"A2\"]['meanFreq']))\n",
    "print(np.mean(df.loc[df['Level'] == \"B1\"]['meanFreq']))\n",
    "print(np.mean(df.loc[df['Level'] == \"B2\"]['meanFreq']))\n",
    "print(np.mean(df.loc[df['Level'] == \"C1\"]['meanFreq']))\n",
    "print(np.mean(df.loc[df['Level'] == \"C2\"]['meanFreq']))"
   ]
  },
  {
   "cell_type": "code",
   "execution_count": null,
   "metadata": {},
   "outputs": [],
   "source": []
  }
 ],
 "metadata": {
  "kernelspec": {
   "display_name": "Python 3",
   "language": "python",
   "name": "python3"
  },
  "language_info": {
   "codemirror_mode": {
    "name": "ipython",
    "version": 3
   },
   "file_extension": ".py",
   "mimetype": "text/x-python",
   "name": "python",
   "nbconvert_exporter": "python",
   "pygments_lexer": "ipython3",
   "version": "3.6.4"
  }
 },
 "nbformat": 4,
 "nbformat_minor": 2
}
