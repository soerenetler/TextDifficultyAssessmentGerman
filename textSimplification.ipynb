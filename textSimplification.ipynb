{
 "cells": [
  {
   "cell_type": "code",
   "execution_count": 1,
   "metadata": {},
   "outputs": [
    {
     "name": "stdout",
     "output_type": "stream",
     "text": [
      "[nltk_data] Downloading package punkt to /home/soeren/nltk_data...\n",
      "[nltk_data]   Package punkt is already up-to-date!\n"
     ]
    },
    {
     "data": {
      "text/plain": [
       "True"
      ]
     },
     "execution_count": 1,
     "metadata": {},
     "output_type": "execute_result"
    }
   ],
   "source": [
    "import nltk\n",
    "nltk.download('punkt')"
   ]
  },
  {
   "cell_type": "code",
   "execution_count": 2,
   "metadata": {},
   "outputs": [],
   "source": [
    "# https://german.net/reading/\n",
    "\n",
    "A1_Text = [\"Zu meiner Familie gehören vier Personen. Die Mutter bin ich und dann gehört natürlich mein Mann dazu. Wir haben zwei Kinder, einen Sohn, der sechs Jahre alt ist und eine dreijährige Tochter. Wir wohnen in einem kleinen Haus mit einem Garten. Dort können die Kinder ein bisschen spielen. Unser Sohn kommt bald in die Schule, unsere Tochter geht noch eine Zeit lang in den Kindergarten. Meine Kinder sind am Nachmittag zu Hause. So arbeite ich nur halbtags. Eigentlich gehören zu unserer Familie auch noch die Großeltern. Sie wohnen nicht bei uns. Sie haben ein Haus in der Nähe. Die Kinder gehen sie oft besuchen.\",\n",
    "          \"Mein Name ist Maria. Ich bin 30 Jahre alt. Zu meiner Familie gehören außer mir noch drei weitere Personen. Mein Mann Markus ist 31 Jahre alt. Wir haben zwei Kinder. Unser Sohn Heinrich ist drei Jahre alt. Unsere Tochter Valerie ist ein Jahr alt. Wir haben auch einen Hund und zwei Katzen. Der Hund heißt Maya und die Katzen Lana und Micki. Wir wohnen in einem Dorf. Die Stadt ist nicht weit von uns entfernt. Unser Haus ist klein und hat einen Garten. Dort spielen die Kinder gerne. Heinrich geht in den Kindergarten, und Valerie ist bei mir zu Hause. Meine Eltern leben im Ausland, aber die Eltern meines Mannes leben in der Nähe. Ich gehe sie mit den Kindern gerne besuchen. Oft passen sie auch auf die Kinder auf. Ich bin Journalistin und arbeite meistens von zu Hause aus. Mein Mann ist Koch und arbeitet oft am Wochenende oder abends.\",\n",
    "          \"Hallo! Ich bin Tom Maier. Ich bin 13 Jahre alt und Schüler. In der Schule mag ich besonders Englisch, Französisch und Sport. Meine Lehrer sind sehr nett. Ich wohne in Stuttgart, Bahnhofstraße 20, 70001 Stuttgart. Ich habe ein Handy! Die Handy-Nummer ist 1234/567890. Meine Hobbys sind Fußball, Schwimmen und Computerspiele. Mein Vater ist Zahnarzt von Beruf, meine Mutter ist Zahnärztin. Meine Eltern haben eine Zahnarztpraxis in der Königstraße in Stuttgart. Ich habe einen Bruder und eine Schwester. Mein Bruder ist 20 Jahre alt und möchte auch Zahnarzt werden. Er studiert Zahnmedizin. Meine Schwester möchte Tierärztin werden. Sie studiert noch nicht, denn sie ist erst 16 Jahre alt.\",\n",
    "          \"Ricarda ist 21 Jahre alt und wohnt in Lübeck. Lübeck ist eine sehr schöne Stadt im Norden von Deutschland. Ricarda studiert Medizin an der Universität von Lübeck. Sie hat viele Freunde dort. Ricardas beste Freundin heißt Maike. Maike ist 22 und wohnt nicht in Lübeck. Sie wohnt in Hamburg, aber besucht ihre Freundin oft in Lübeck. Sie treffen sich gerne im Park. Meistens gehen sie dann zusammen Eis essen. Danach gehen sie manchmal noch einkaufen. Ricarda kauft am liebsten neue Schuhe. Maike kauft sich lieber neuen Schmuck. Am Abend gehen sie gern ins Kino. Maike übernachtet dann oft bei Ricarda.\",\n",
    "          \"Frau Meier geht heute in den Supermarkt. Ihr Mann ist nicht zu Hause und sie nimmt den Bus. An der Haltestelle trifft sie ihre Freundin Frau Schmidt. Frau Schmidt will auch in den Supermarkt. Frau Müller: “Das ist super! Dann fahren wir zusammen!”. Frau Schmidt: “Ja, wir kaufen ein. Danach trinken wir Kaffee und essen Kuchen. Im Café neben dem Supermarkt gibt es sehr guten Kuchen.” Frau Meier: “Gute Idee!”. Frau Meier und Frau Schmidt gehen zusammen in den Supermarkt. Frau Meier: “Ich brauche Tomaten. Mein Mann will Salat essen. Ich nehme zehn Tomaten.” Frau Schmidt: “Tomaten sind gut. Ich kaufe fünf Tomaten. Da ist auch Kopfsalat.” Frau Meier nimmt keinen Kopfsalat. Sie nimmt aber zwei Gurken. Frau Meier kauft auch ein Kilo Zwiebeln. Frau Schmidt will Brot kaufen. Frau Meier: “Das Brot ist nicht schön. Ich kaufe Brot in der Bäckerei. Aber die Schokolade hier ist gut. Sie kostet nur 50 Cent. Ich nehme drei Tafeln Schokolade.” Frau Schmidt: “Da ist noch ein Sonderangebot. Mineralwasser und Orangensaft sind billig.” Frau Meier: “Orangensaft habe ich zu Hause. Aber ich brauche fünf Flaschen Mineralwasser.” Frau Schmidt kauft nur drei Flaschen Mineralwasser. Frau Meier und Frau Schmidt gehen an die Kasse. Dann gehen sie ins Café. Frau Schmidt trinkt eine Tasse Tee. Frau Meier mag lieber Kaffee. Sie bestellen zwei Stücke Schokoladenkuchen. Sie fahren mit dem Bus nach Hause.\",\n",
    "          \"Es ist 7 Uhr am Morgen. Familie Müller sitzt am Frühstückstisch. Der Vater heißt Bernd. Der Name der Mutter ist Angelika. Thomas und Lisa sind die Kinder der beiden. Thomas sitzt neben Angelika. Bernd sitzt neben seiner Tochter. Die Eltern trinken eine Tasse Kaffee. Der Vater liest dabei Zeitung. Die beiden Kinder trinken Milch. Auf dem Tisch stehen vier Teller und vier Tassen. In der Mitte steht ein Korb mit Brot. Daneben liegt die Butter. Ein Teller mit Wurst und Käse ist auch da. Dahinter steht ein Glas Marmelade. Der Vater isst ein Brot mit Butter und Wurst. Angelika mag am liebsten Käse. Die Kinder essen ihr Brot mit Marmelade.\",\n",
    "          \"Lieber Thomas! Jetzt bist du weit weg! Ich bin sehr unglücklich! Wie geht es dir in Hamburg? Hast du nette Kollegen in der Bank? Ist der Chef nett? Hast du schon eine Wohnung? Ist die Wohnung teuer? Ich arbeite schon zwei Wochen im Goethe-Gymnasium in München. Die Kollegen und Kolleginnen sind sehr freundlich. Die Schülerinnen und Schüler sind auch sehr nett. München ist schön! Das Wetter ist gut. Aber meine Katze „Mimi“ ist krank! Das ist schrecklich. Heute Abend gehe ich ins Theater. Herzliche Grüße Deine Susanne Viele Grüße von Mimi!\"]\n",
    "\n",
    "A2_Text = [\"Hartmut hat im Februar eine Reise gemacht: Er ist in die Alpen gefahren, in ein kleines Dorf in Österreich. Er hat in einem hübschen Hotel ein Einzelzimmer bekommen. Das Essen im Hotel hat ihm sehr gut geschmeckt. Jeden Morgen ist Hartmut zum Skikurs gegangen. Der Skilehrer, Herr Winter, hat gesagt: \\\"Hartmut ist der beste von meinen Schülern!\\\" Hartmut hat sich sehr gefreut. Am letzten Abend hat die ganze Gruppe Abschied gefeiert. Sie haben viel Wein getrunken. Dann hat Hartmut gesagt: \\\"Ich habe eine Idee! Wir wollen in der Dunkelheit Ski laufen!\\\" Alle haben geantwortet: \\\"Das ist eine tolle Idee!\\\" Sie sind in der Dunkelheit Ski gelaufen. Hartmut hat sich das Bein gebrochen. Armer Hartmut!\",\n",
    "           \"Heute ist Freitag. Wir haben heute Morgen in unseren Kühlschrank geschaut und gesehen, dass er leer ist. Da wir am Wochenende viele von unseren Freunden zu einer Party eingeladen haben, müssen wir nun einen Großeinkauf machen. Unsere Freunde sind sehr unterschiedlich, einige möchten gerne alkoholische Getränke, andere lieber nur Saft oder Wasser. Also müssen wir viele verschiedene Sachen einkaufen. Wir haben entschieden, einige Salate zu machen, sodass wir nun viel Obst und Gemüse kaufen. Wenn das Wetter schön ist, könnten wir auch einen Grill auf den Balkon stellen. Das bedeutet, wir müssen auch Würstchen und ein bisschen Fleisch kaufen, damit alle Gäste zufrieden sind. Wir hoffen, dass es ein schönes Fest wird.\",\n",
    "           \"Im Sommer reisen viele Menschen gerne nach Österreich. Besonders in Wien und Salzburg treffen sich Touristen aus aller Welt, um auf Konzerte zu gehen, Museen zu besuchen und außerhalb der Städte kurze Wanderungen zu unternehmen. In Wien besuchen die Touristen am liebsten den Stephansdom und das Schloss Schönbrunn; in Salzburg besonders die Festung Hohensalzburg und das Haus, in dem der Komponist Wolfgang Amadeus Mozart geboren wurde. Wer nach Österreich reist, schläft gerne im Hotel, deswegen sind manche Hotels im Sommer ausgebucht. Andere Leute übernachten gerne in Jugendherbergen oder mieten Wohnungen, in denen sie sich selbst versorgen müssen. Im Internet vergleichen sie die Preise und finden so das günstigste und das für sie beste Angebot in der Stadt. Überrascht sind sie oft, weil die Supermärkte in Österreich am Wochenende und in der Nacht nicht geöffnet sind. Trotzdem gefällt es den meisten Touristen in Wien und Salzburg sehr gut, schließlich kommen viele auch gerne wieder nach Österreich zurück.\",\n",
    "           \"Tina ist neu in der Stadt und kennt sich noch nicht aus. Sie möchte gerne etwas zu essen und zu trinken kaufen, weiß aber nicht, wo sie einkaufen kann. Im Treppenhaus trifft sie ihren neuen Nachbarn Ben. \\\"Hallo, ich bin Ben. Bist du neu hier?\\\", fragt Ben. \\\"Ja, ich wohne erst seit gestern hier. Ich heiße Tina. Kannst du mir sagen, wo der nächste Supermarkt ist?\\\", möchte Tina wissen. \\\"Lass uns zusammen gehen, ich wollte auch gerade los und ein paar Kleinigkeiten besorgen. Dann kann ich dir den Weg zeigen.\\\" \\\"Das klingt gut, danke.\\\" Also machen die beiden sich gemeinsam auf den Weg zum Supermarkt, um ihre Einkäufe zu erledigen.\",\n",
    "          \"Vor kurzem sind wir umgezogen. „Wir“ – das sind mein Mann und ich und unsere zwei Kinder. Zuerst wollten wir nur eine größere Wohnung, um zu Viert mehr Platz zu haben. Dann sind wir aber zufällig auf ein kleines Haus mit einem kleinen Garten gestoßen und haben uns sofort darin verliebt und uns dafür entschieden, dort einzuziehen. Jetzt kann jedes Kind ein eigenes Zimmer haben und es gibt sogar ein Büro für die beiden Eltern. Noch dazu werden wir einen Sandkasten im Garten einrichten, sodass die Kinder dort spielen können mit den Freunden, die sie hoffentlich in der Umgebung finden. Im Moment gibt es noch ein großes Durcheinander im Haus, viele Kartons sind noch nicht ausgepackt, aber das wird sich bald ändern. Wir sind alle sehr froh.\",\n",
    "          \"Sehr geehrte Damen und Herren, ich habe vor wenigen Wochen eine neue Jeans bei Ihnen bestellt. Ich war sehr glücklich, die Hose ist nach wenigen Tagen schon angekommen. Sie sieht aus wie in der Werbung und gefällt mir sehr. Leider haben Sie mir die Jeans in der falschen Größe geschickt. Die Hose passt mir nicht und ich kann sie daher nicht tragen. Ich bitte Sie daher um einen Umtausch der Ware. Bitte schicken Sie mir per Post eine neue Jeans in der richtigen Größe zu. Ich schicke Ihnen dann die falsche Hose per Post zurück. Falls sie die Hose nicht in meiner Größe vorrätig haben, möchte ich gern mein Geld zurück.Mit freundlichen Grüßen Martin Enger\",\n",
    "          \"Der Müritzsee ist das größte Gewässer in Deutschland. Er liegt im Bundesland Mecklenburg-Vorpommern. Der Bodensee ist noch größer als der Müritzsee. Er liegt jedoch nicht komplett in Deutschland. Große Teile des Bodensees liegen in der Schweiz und in Österreich. Im Sommer ist der Müritzsee ein beliebtes Reiseziel. Er ist über 3,5 Kilometer lang. An einigen Stellen ist der See bis zu 750 Meter breit. Gäste fahren aus ganz Deutschland an den See. Viele Gäste kommen auch nur für einen Tag an den Müritzsee. Die Bundeshauptstadt Berlin liegt mit dem Auto nur 90 Minuten entfernt. Größere Städte am Ufer des Sees sind Waren und Röbel.\",\n",
    "          \"Heute ist der 30. Juli. Übermorgen habe ich meinen zwanzigsten Geburtstag und ich habe eine große Party geplant. Zu meiner Feier habe ich zwanzig Leute eingeladen, für die ich kochen werde. Als ich heute in den Kühlschrank sah, stellte ich aber fest, dass er schon fast leer ist. Ich muss jetzt einen Großeinkauf machen: Meine Freunde mögen ganz unterschiedliche Sachen, daher ist die Einkaufsliste sehr lang. Viele von ihnen trinken gerne alkoholische Getränke wie Bier und Wein. Für andere kaufe ich Wasser und Fruchtsaft ein. Wenn wir grillen, muss ich auch aufpassen, dass meine vegetarischen Freunden etwas Gutes zu essen bekommen. Für sie werde ich einen guten Salat vorbereiten und Käse zum Grillen kaufen. Die anderen Freunde essen gerne Würstchen und Steaks. Wenn die Sonne scheint, können wir bis spät in die Nacht im Garten sitzen und uns gut unterhalten. Ich freue mich schon auf das Fest und ich hoffe, dass es meinen Freunden auch viel Spaß machen wird.\"]\n",
    "\n",
    "B1_Text = [\"Die Sommerferien in Deutschland sind mit sechs Wochen die längsten Ferien des Jahres. In der Regel finden sie zwischen Juli und September statt. In den meisten Bundesländern beginnen die Sommerferien zu unterschiedlichen Terminen. Bevor die Ferien beginnen, bekommen Schüler in der Schule ihr Zeugnis. Viele Deutsche verreisen in den Sommerferien. Italien und Spanien sind beliebte Urlaubsziele. Ganz besonders beliebt bei den Deutschen ist die Insel Mallorca. Einigen Menschen fehlt jedoch das Geld, um weite Reisen zu machen. Sie bleiben zuhause und genießen die freie Zeit oder verreisen innerhalb Deutschlands. Besonders der Norden hat viele Urlaubsstrände zu bieten, an denen man sich gut erholen kann.\",\n",
    "          \"Alex: „Hallo, ich bin Alex und ziehe heute neu ein.“ Tina: „Ja, das habe ich mitbekommen. Ich bin Tina und wohne eine Tür weiter.“ Alex: „Schön Sie kennen zu lernen.“ Tina: „Ebenfalls, kann ich Ihnen vielleicht beim Einziehen zur Hand gehen?“ Alex: „Nun, vielen Dank für das Angebot. Aber ich denke, dass ich den Rest alleine schaffe. Außerdem müssen Sie doch sicher zur Arbeit, oder?“ Tina: „Nein, ich bin Studentin und habe heute keine Vorlesungen. Deswegen habe ich auch Zeit.“ Alex: „Aha, das ist ja interessant. Ich bin auch Student und studiere Physik. Was studieren Sie denn? Tina: „Medizin, genauer gesagt Tiermedizin. Ich möchte mal Tierärztin werden.“ Alex: „Das ist ja klasse. Ich habe selber auch zwei Haustiere. Eine Katze und einen Goldfisch. Wenn die mal krank sind, weiß ich ja jetzt, wo ich hingehen muss.“ Tina: „Na ja, soweit bin ich noch nicht. Aber es würde mich freuen Ihre Haustiere mal kennenzulernen.“ Alex: „Sehr gerne, sobald ich eingezogen bin und ein wenig aufgeräumt habe, sind Sie herzlich eingeladen.“ Tina: „Vielen Dank, ich werde vorbeischauen. Bis bald und viel Erfolg beim Einzug.“ Alex: „Auf Wiedersehen und vielen Dank für die nette Begrüßung.“\",\n",
    "          \"Für viele Berufe ist es von Vorteil, eine Zeitlang im Ausland zu studieren oder sogar zu arbeiten. Manchmal ist es nicht einfach, einen Platz zu finden, aber es gibt schon seit geraumer Zeit Organisationen, die sich auf die internationale Vermittlung von Arbeitnehmern spezialisiert haben. Schon im Vorfeld sollte man sich auf ein Leben in einer anderen Kultur vorbereiten und sich die Frage stellen, was man bereit ist, von seinen eigenen Gewohnheiten und Bedürfnissen aufzugeben oder zu verändern. Einmal in seiner neuen Umgebung angekommen, ist eine klare Kommunikation von Vorteil, was jedoch nicht heißt, die Grundregeln der Höflichkeit und Rücksichtnahme zu vernachlässigen. Kulturelle Unterschiede lassen sich nur durch eine gute Vermittlung fruchtbar machen.\",\n",
    "          \"Um gesund zu bleiben, sollte man verschiedene Dinge beachten. Dazu gehört eine gesunde Ernährung. Es ist wichtig, täglich Obst und Gemüse zu essen. Zucker und Fleisch sollten nur selten verspeist werden. Außerdem muss man viel Wasser trinken. Zwei Liter pro Tag sind ideal. Ein gesunder Körper braucht ausreichend Bewegung. Man sollte mindestens zwei mal pro Woche Sport treiben, um fit zu bleiben. Viele Menschen sagen, dass sie keine Zeit für Sport haben. Oft ist das eine Ausrede. Dabei kann Sport Spaß machen, denn Bewegung tut gut. Genauso wichtig ist ein erholsamer Schlaf. Als Erwachsener sollte man mindestens sieben Stunden pro Tag schlafen. Vor allem sollte man auf Alkohol und Zigaretten verzichten, um gesund zu bleiben.\",\n",
    "          \"Julian und Stefan wollen gemeinsam verreisen. Als Urlaubsort haben sie sich Teneriffa ausgesucht. Zusammen kümmern sie sich um die Organisation der Reise. Julian schaut im Internet nach besonders günstigen Flügen. Der Flug ab Hamburg hat den besten Preis. Allerdings müssen sie zwei Stunden Zeit für die Fahrt zum Flughafen einplanen.Stefan kümmert sich um die Unterkunft. Auf Teneriffa gibt es sehr viele Hotels mit unterschiedlichen Preisen. Vieles ist zu teuer, deswegen schaut Stefan erst einmal nach einem Hostel. Allerdings muss man sich dort selbst um die Verpflegung kümmern. Stefan entscheidet sich schließlich für ein günstiges Hotel, das drei Kilometer vom Strand entfernt liegt. Dafür hat das Hotel auf der Internetseite gute Bewertungen.\",\n",
    "          \"Anna und Olaf wollen heute das Haus putzen. Sie teilen sich dabei die Arbeit. Anna kümmert sich um Bad und Küche und Olaf putzt das Schlafzimmer. Zuerst erledigt Anna den Abwasch. Danach trocknet sie das saubere Geschirr ab. Anschließend muss der Boden gefegt werden. Das geht am besten mit einem Besen. Im Bad gibt es noch mehr Arbeit für Anna. Sie muss mit einem Schwamm die Badewanne putzen und den Boden sauber wischen. Olaf saugt währenddessen das Schlafzimmer mit dem Staubsauger. Anschließend beginnt er, mit einem Tuch Staub zu wischen. Nachdem er das getan hat, muss er noch die Betten frisch beziehen. Dann ist das Haus wieder schön sauber.\",\n",
    "          \"Für viele Leute, vor allem aus dem europäischen Ausland, ist Deutschland kein Land, in dem man seine Ferien verbringen kann. In ihrer Phantasie regnet es dort immer und sie fahren lieber rund ums Mittelmeer mit seiner Sonnengarantie.Wenn man aber einmal zum Beispiel nach Bayern in die Ferien gefahren ist, hat man Lust, immer wiederzukommen. Die Seen südlich von München ermöglichen Urlaub am Wasser mit Segeln und Wasserski. Die nahen Alpen sind ein bevorzugtes Ziel für Wanderfreunde und Fans von Paragliding und Rafting. Nicht zu vergessen die Schlösser des Königs Ludwig II., die jedes Jahr mehrere Millionen Besucher anziehen. Und zum Schluss, auch München, die Landeshauptstadt, ist immer einen Besuch wert.\"]"
   ]
  },
  {
   "cell_type": "code",
   "execution_count": 3,
   "metadata": {},
   "outputs": [],
   "source": [
    "# pyphen.org/\n",
    "import pyphen\n",
    "import numpy as np\n",
    "import matplotlib.pyplot as plt\n",
    "from nltk.tokenize import sent_tokenize, word_tokenize\n",
    "import random\n",
    "\n",
    "\n",
    "\n",
    "def average_sentence_length(string):\n",
    "    return np.mean([len(word_tokenize(sentence)) for sentence in sent_tokenize(string)])\n",
    "    \n",
    "def average_syllable_word(string):\n",
    "    pyphen.language_fallback('de_DE_variant1')\n",
    "    dic = pyphen.Pyphen(lang='de_DE')\n",
    "    return np.mean([syllable_count(word, dic) for word in word_tokenize(string)])\n",
    "    \n",
    "def syllable_count(string, dic):\n",
    "    return len(dic.inserted(string).split(\"-\"))\n",
    "\n",
    "def Flesch_Reading_Ease_Score(string):\n",
    "    ''' On a given text the score will produce a value between 1 and 100 where the higher\n",
    "    the value the easier the text would be. Documents scoring 30 are very difficult to\n",
    "    read while those scoring 70 should be easy to read.'''\n",
    "    asl = average_sentence_length(string)\n",
    "    asw = average_syllable_word(string)\n",
    "    \n",
    "    return 206.835 - (1.015 * asl) - (84.6 * asw)\n",
    "\n",
    "def Flesch_Kincaid_readability(string):\n",
    "    '''The Flesch-Kincaid readability formula (2.2) simplifies the Flesch score to produce a “grade\n",
    "    level” which is easily interpretable (i.e., a text with a grade level of eight according to the formula\n",
    "    could be thought appropriate for an eighth grader).'''\n",
    "    asl = average_sentence_length(string)\n",
    "    asw = average_syllable_word(string)\n",
    "    \n",
    "    return (0.4 * asl) + (12 * asw) - 15\n",
    "\n",
    "def percentag_hard_words(string):\n",
    "    pyphen.language_fallback('de_DE_variant1')\n",
    "    dic = pyphen.Pyphen(lang='de_DE')\n",
    "    tokenized_string = word_tokenize(string)\n",
    "    return sum([syllable_count(word, dic)>=3 for word in tokenized_string])/len(tokenized_string)\n",
    "                \n",
    "def fog(string):\n",
    "    hw = percentag_hard_words(string)\n",
    "    asl = average_sentence_length(string)\n",
    "                \n",
    "    return 0.4 * (hw + asl)\n",
    "\n",
    "def polysyllable_count(string):\n",
    "    '''the number of words with 3 or more syllables in 30 sentences\n",
    "    which shall be picked from the beginning, middle, and end of the document.'''\n",
    "    pyphen.language_fallback('de_DE_variant1')\n",
    "    dic = pyphen.Pyphen(lang='de_DE')\n",
    "    text_sent = sent_tokenize(string)\n",
    "    part_len = int(len(text_sent)/3)\n",
    "    \n",
    "    if part_len > 10:\n",
    "        beginning_sentences = text_sent[:part_len]\n",
    "        middle_sentences = text_sent[part_len:-part_len]\n",
    "        end_sentences = text_sent[-part_len:]\n",
    "    \n",
    "        picked_sentences = random.choice(beginning_sentences, 10) + random.sample(middle_sentences, 10) + random.sample(end_sentences, 10)\n",
    "    else:\n",
    "        picked_sentences = text_sent\n",
    "    \n",
    "    return sum(sum([syllable_count(word, dic)>=3 for word in word_tokenize(string)]) for sentence in picked_sentences)\n",
    "\n",
    "def smog(string):\n",
    "    psc = polysyllable_count(string)\n",
    "    return 3 + np.sqrt(psc)"
   ]
  },
  {
   "cell_type": "code",
   "execution_count": 5,
   "metadata": {},
   "outputs": [
    {
     "name": "stdout",
     "output_type": "stream",
     "text": [
      "Flesch Reading Ease Score A1 67.38134803921571\n",
      "Flesch Reading Ease Score B1 42.39026923076926\n"
     ]
    }
   ],
   "source": [
    "A1_Flesch_Reading_Ease_Scores = [Flesch_Reading_Ease_Score(text) for text in A1_Text]\n",
    "A2_Flesch_Reading_Ease_Scores = [Flesch_Reading_Ease_Score(text) for text in A2_Text]\n",
    "B1_Flesch_Reading_Ease_Scores = [Flesch_Reading_Ease_Score(text) for text in B1_Text]\n",
    "print(\"Flesch Reading Ease Score\", \"A1\" ,Flesch_Reading_Ease_Score(A1_Text[0]))\n",
    "print(\"Flesch Reading Ease Score\", \"B1\" ,Flesch_Reading_Ease_Score(B1_Text[0]))"
   ]
  },
  {
   "cell_type": "code",
   "execution_count": 7,
   "metadata": {},
   "outputs": [
    {
     "data": {
      "text/plain": [
       "22"
      ]
     },
     "execution_count": 7,
     "metadata": {},
     "output_type": "execute_result"
    }
   ],
   "source": [
    "len(A1_Flesch_Reading_Ease_Scores + A2_Flesch_Reading_Ease_Scores + B1_Flesch_Reading_Ease_Scores)"
   ]
  },
  {
   "cell_type": "code",
   "execution_count": 8,
   "metadata": {},
   "outputs": [
    {
     "data": {
      "image/png": "[encoded data removed]",
      "text/plain": [
       "<matplotlib.figure.Figure at 0x7f6a126b0940>"
      ]
     },
     "metadata": {},
     "output_type": "display_data"
    }
   ],
   "source": [
    "plt.scatter([\"A1\",\"A1\",\"A1\",\"A1\",\"A1\",\"A1\",\"A1\", \"A2\",\"A2\",\"A2\",\"A2\",\"A2\",\"A2\",\"A2\",\"A2\",\"B1\",\"B1\",\"B1\",\"B1\",\"B1\",\"B1\",\"B1\"], A1_Flesch_Reading_Ease_Scores + A2_Flesch_Reading_Ease_Scores + B1_Flesch_Reading_Ease_Scores)\n",
    "plt.title(\"Flesch Reading Ease Scores\")\n",
    "plt.show()"
   ]
  },
  {
   "cell_type": "code",
   "execution_count": 43,
   "metadata": {},
   "outputs": [
    {
     "name": "stdout",
     "output_type": "stream",
     "text": [
      "Flesch Kincaid readability A1 7.3196078431372555\n",
      "Flesch Kincaid readability B1 11.321025641025642\n"
     ]
    }
   ],
   "source": [
    "A1_Flesch_Kincaid_readability = [Flesch_Kincaid_readability(text) for text in A1_Text]\n",
    "B1_Flesch_Kincaid_readability = [Flesch_Kincaid_readability(text) for text in B1_Text]\n",
    "print(\"Flesch Kincaid readability\", \"A1\" ,Flesch_Kincaid_readability(A1_Text[0]))\n",
    "print(\"Flesch Kincaid readability\", \"B1\" ,Flesch_Kincaid_readability(B1_Text[0]))"
   ]
  },
  {
   "cell_type": "code",
   "execution_count": 44,
   "metadata": {},
   "outputs": [
    {
     "data": {
      "image/png": "[encoded data removed]",
      "text/plain": [
       "<matplotlib.figure.Figure at 0x7fce51c14eb8>"
      ]
     },
     "metadata": {},
     "output_type": "display_data"
    }
   ],
   "source": [
    "plt.scatter([\"A1\",\"A1\",\"A1\",\"A1\",\"A1\",\"A1\",\"A1\",\"B1\",\"B1\",\"B1\",\"B1\",\"B1\",\"B1\",\"B1\"], A1_Flesch_Kincaid_readability + B1_Flesch_Kincaid_readability)\n",
    "plt.title(\"Flesch Kincaid readability\")\n",
    "plt.show()"
   ]
  },
  {
   "cell_type": "code",
   "execution_count": 45,
   "metadata": {},
   "outputs": [
    {
     "name": "stdout",
     "output_type": "stream",
     "text": [
      "FOG A1 4.0170868347338935\n",
      "FOG B1 4.772307692307692\n"
     ]
    }
   ],
   "source": [
    "A1_FOG = [fog(text) for text in A1_Text]\n",
    "B1_FOG = [fog(text) for text in B1_Text]\n",
    "print(\"FOG\", \"A1\" ,fog(A1_Text[0]))\n",
    "print(\"FOG\", \"B1\" ,fog(B1_Text[0]))"
   ]
  },
  {
   "cell_type": "code",
   "execution_count": 46,
   "metadata": {},
   "outputs": [
    {
     "data": {
      "image/png": "[encoded data removed]",
      "text/plain": [
       "<matplotlib.figure.Figure at 0x7fce51dcacf8>"
      ]
     },
     "metadata": {},
     "output_type": "display_data"
    }
   ],
   "source": [
    "plt.scatter([\"A1\",\"A1\",\"A1\",\"A1\",\"A1\",\"A1\",\"A1\",\"B1\",\"B1\",\"B1\",\"B1\",\"B1\",\"B1\",\"B1\"], A1_FOG + B1_FOG)\n",
    "plt.title(\"FOG readability\")\n",
    "plt.show()"
   ]
  },
  {
   "cell_type": "code",
   "execution_count": 47,
   "metadata": {},
   "outputs": [
    {
     "name": "stdout",
     "output_type": "stream",
     "text": [
      "SMOG A1 16.41640786499874\n",
      "SMOG B1 19.431676725154983\n"
     ]
    }
   ],
   "source": [
    "A1_SMOG = [smog(text) for text in A1_Text]\n",
    "B1_SMOG = [smog(text) for text in B1_Text]\n",
    "print(\"SMOG\", \"A1\" ,smog(A1_Text[0]))\n",
    "print(\"SMOG\", \"B1\" ,smog(B1_Text[0]))"
   ]
  },
  {
   "cell_type": "code",
   "execution_count": 48,
   "metadata": {},
   "outputs": [
    {
     "data": {
      "image/png": "[encoded data removed]",
      "text/plain": [
       "<matplotlib.figure.Figure at 0x7fce51cc51d0>"
      ]
     },
     "metadata": {},
     "output_type": "display_data"
    }
   ],
   "source": [
    "plt.scatter([\"A1\",\"A1\",\"A1\",\"A1\",\"A1\",\"A1\",\"A1\",\"B1\",\"B1\",\"B1\",\"B1\",\"B1\",\"B1\",\"B1\"], A1_SMOG + B1_SMOG)\n",
    "plt.title(\"SMOG readability\")\n",
    "plt.show()"
   ]
  },
  {
   "cell_type": "code",
   "execution_count": null,
   "metadata": {},
   "outputs": [],
   "source": []
  },
  {
   "cell_type": "code",
   "execution_count": null,
   "metadata": {},
   "outputs": [],
   "source": []
  },
  {
   "cell_type": "code",
   "execution_count": null,
   "metadata": {},
   "outputs": [],
   "source": []
  }
 ],
 "metadata": {
  "kernelspec": {
   "display_name": "Python 3",
   "language": "python",
   "name": "python3"
  },
  "language_info": {
   "codemirror_mode": {
    "name": "ipython",
    "version": 3
   },
   "file_extension": ".py",
   "mimetype": "text/x-python",
   "name": "python",
   "nbconvert_exporter": "python",
   "pygments_lexer": "ipython3",
   "version": "3.6.4"
  }
 },
 "nbformat": 4,
 "nbformat_minor": 2
}
