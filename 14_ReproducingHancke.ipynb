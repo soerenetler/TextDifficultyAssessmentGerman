{
 "cells": [
  {
   "cell_type": "markdown",
   "metadata": {},
   "source": [
    "# Reproducing Hancke (2013)"
   ]
  },
  {
   "cell_type": "code",
   "execution_count": 147,
   "metadata": {},
   "outputs": [],
   "source": [
    "import math\n",
    "import numpy as np\n",
    "import pandas as pd\n",
    "from sklearn.model_selection import StratifiedKFold, train_test_split\n",
    "from sklearn.preprocessing import MinMaxScaler,StandardScaler\n",
    "from sklearn.svm import SVC, LinearSVC"
   ]
  },
  {
   "cell_type": "code",
   "execution_count": 148,
   "metadata": {},
   "outputs": [
    {
     "name": "stderr",
     "output_type": "stream",
     "text": [
      "C:\\Users\\Ditty\\Anaconda3\\lib\\site-packages\\ipykernel_launcher.py:4: UserWarning: Boolean Series key will be reindexed to match DataFrame index.\n",
      "  after removing the cwd from sys.path.\n"
     ]
    }
   ],
   "source": [
    "#create df according to hers\n",
    "df=pd.read_csv(\"datasets/08_SyntaxComplexity/01_Preprocessing_df.csv\", sep=\"|\", lineterminator='\\n')\n",
    "merlin = df[df.Source == \"http://merlin-platform.eu/C_data.php\"]\n",
    "merlin = merlin[df.Level != \"C2\"]\n",
    "merlin = merlin.fillna(value=1)"
   ]
  },
  {
   "cell_type": "code",
   "execution_count": 149,
   "metadata": {},
   "outputs": [],
   "source": [
    "#select her features from ours\n",
    "hancke = ['BF-average_sentence_length',  'SD-avg_no_dep_verb_inc_mod',\n",
    "         'SC-av_coordinations_per_sentence', 'MO-nom2nouns', 'MO-gen2nouns', 'MO-2nd2finverbs', 'MO-3rd2finverbs',\n",
    "         'MO-gen2nouns', 'MO-keit2nouns', 'MO-ung2nouns', 'MO-werk2nouns', \n",
    "         'LD-ttr', 'LD-root_ttr', 'LD-corrected_ttr',  'SC-no_passives_per_sentence', 'BF-text_length',\n",
    "         'LV-squared_verb_variation', 'LV-corrected_verb_variation', 'BF-average_character_per_word', \n",
    "          'BF-average_syllable_word', 'LV-noun_token_ratio', \n",
    "          'SC-av_non_terminals_per_word', 'SC-av_clause_length', \n",
    "          'SE_ratioRealSpellingErrors', 'LD-hdd', 'LD-mtld', 'FF-meanFreq']"
   ]
  },
  {
   "cell_type": "code",
   "execution_count": 150,
   "metadata": {},
   "outputs": [],
   "source": [
    "our_best =  ['SE_ratioRealSpellingErrors', 'SE_ratioSpellingErrors', 'SE_ratioSpellingErrorsWithCorrection',\n",
    "             'BF-polysyllable_count','BF-smog', 'BF-average_character_per_word', 'BF-text_length',\n",
    "             'LD-uber_index', 'LD-mtld', 'LV-adv_variation', 'LV-modifier_variation','LV-corrected_verb_variation', \n",
    "             'LV-noun_token_ratio', 'FF-bin6', 'FF-bin9', 'FF-bin12', 'FF-bin14', 'MO-*', 'MO-1', 'MO-ADJA', 'MO-APPR',\n",
    "             'MO-ART', 'MO-Als', 'MO-Auf', 'MO-Def', 'MO-Deg', 'MO-Dem', 'MO-Doch', 'MO-Hyph', 'MO-Ind', 'MO-Left', 'MO-Masc', 'MO-Name', 'MO-Neg',\n",
    "             'MO-Neut', 'MO-Nom', 'MO-PRO', 'MO-PROADV', 'MO-Past', 'MO-Pers', 'MO-Poss', 'MO-SubFin', 'MO-Verb', 'MO-Zu', \n",
    "             'MO-Zwischen', 'MO-nom2nouns', 'SD-avg_no_words_head_dep', 'SC-max_clause_length',\n",
    "             'SC-av_num_dep_clauses_per_sentence', 'SC-sein_haben_ratio']"
   ]
  },
  {
   "cell_type": "markdown",
   "metadata": {},
   "source": [
    "# Testing Hancke's features on Merlin"
   ]
  },
  {
   "cell_type": "code",
   "execution_count": 151,
   "metadata": {},
   "outputs": [],
   "source": [
    "#normalize features\n",
    "features = np.array(hancke)\n",
    "df = merlin[features]\n",
    "df = df.select_dtypes(include=[np.number])\n",
    "x = df.values\n",
    "min_max_scaler = MinMaxScaler()\n",
    "x_scaled = min_max_scaler.fit_transform(x)\n",
    "df = pd.DataFrame(x_scaled, columns=df.columns)\n",
    "df['Level'] = merlin[\"Level\"].values"
   ]
  },
  {
   "cell_type": "code",
   "execution_count": 152,
   "metadata": {},
   "outputs": [],
   "source": [
    "#perform cross-validation\n",
    "kfold = StratifiedKFold(n_splits=10, shuffle=True, random_state=42)\n",
    "scores = []\n",
    "X = df[features].values\n",
    "y = df[\"Level\"]\n",
    "for train_index, test_index in kfold.split(X,y):\n",
    "    X_train, X_test = X[train_index], X[test_index]\n",
    "    y_train, y_test = y[train_index], y[test_index]\n",
    "    clf = SVC()\n",
    "    clf.fit(X_train, y_train)\n",
    "    y_pred = clf.predict(X_test)\n",
    "    scores.append(clf.score(X_test, y_test))"
   ]
  },
  {
   "cell_type": "code",
   "execution_count": 153,
   "metadata": {},
   "outputs": [
    {
     "name": "stdout",
     "output_type": "stream",
     "text": [
      "Our accuracy on MERLIN with Hancke's feature set: 0.69 (+/- 0.05)\n"
     ]
    }
   ],
   "source": [
    "print(\"Our accuracy on MERLIN with Hancke's feature set: %0.2f (+/- %0.2f)\" % (np.array(scores).mean(), np.array(scores).std() * 2))"
   ]
  },
  {
   "cell_type": "markdown",
   "metadata": {},
   "source": [
    "# Testing our features on Merlin"
   ]
  },
  {
   "cell_type": "code",
   "execution_count": 154,
   "metadata": {},
   "outputs": [],
   "source": [
    "#normalize features\n",
    "features = np.array(our_best)\n",
    "df = merlin[features]\n",
    "df = df.select_dtypes(include=[np.number])\n",
    "x = df.values\n",
    "min_max_scaler = MinMaxScaler()\n",
    "x_scaled = min_max_scaler.fit_transform(x)\n",
    "df = pd.DataFrame(x_scaled, columns=df.columns)\n",
    "df['Level'] = merlin[\"Level\"].values"
   ]
  },
  {
   "cell_type": "code",
   "execution_count": 155,
   "metadata": {},
   "outputs": [],
   "source": [
    "#perform cross-validation\n",
    "kfold = StratifiedKFold(n_splits=10, shuffle=True, random_state=42)\n",
    "scores = []\n",
    "X = df[features].values\n",
    "y = df[\"Level\"]\n",
    "for train_index, test_index in kfold.split(X,y):\n",
    "    X_train, X_test = X[train_index], X[test_index]\n",
    "    y_train, y_test = y[train_index], y[test_index]\n",
    "    clf = SVC()\n",
    "    clf.fit(X_train, y_train)\n",
    "    y_pred = clf.predict(X_test)\n",
    "    scores.append(clf.score(X_test, y_test))"
   ]
  },
  {
   "cell_type": "code",
   "execution_count": 156,
   "metadata": {},
   "outputs": [
    {
     "name": "stdout",
     "output_type": "stream",
     "text": [
      "Our accuracy on MERLIN with Hancke's feature set: 0.70 (+/- 0.07)\n"
     ]
    }
   ],
   "source": [
    "print(\"Our accuracy on MERLIN with Hancke's feature set: %0.2f (+/- %0.2f)\" % (np.array(scores).mean(), np.array(scores).std() * 2))"
   ]
  },
  {
   "cell_type": "code",
   "execution_count": null,
   "metadata": {},
   "outputs": [],
   "source": []
  }
 ],
 "metadata": {
  "kernelspec": {
   "display_name": "Python 3",
   "language": "python",
   "name": "python3"
  },
  "language_info": {
   "codemirror_mode": {
    "name": "ipython",
    "version": 3
   },
   "file_extension": ".py",
   "mimetype": "text/x-python",
   "name": "python",
   "nbconvert_exporter": "python",
   "pygments_lexer": "ipython3",
   "version": "3.6.4"
  }
 },
 "nbformat": 4,
 "nbformat_minor": 2
}
