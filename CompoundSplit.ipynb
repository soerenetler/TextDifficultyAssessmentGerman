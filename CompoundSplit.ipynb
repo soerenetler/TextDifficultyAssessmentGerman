{
 "cells": [
  {
   "cell_type": "code",
   "execution_count": 1,
   "metadata": {},
   "outputs": [
    {
     "data": {
      "text/plain": [
       "('CharSplit.zip', <http.client.HTTPMessage at 0x7ff7f44d0198>)"
      ]
     },
     "execution_count": 1,
     "metadata": {},
     "output_type": "execute_result"
    }
   ],
   "source": [
    "# https://github.com/dtuggener/CharSplit\n",
    "import urllib\n",
    "url = \"https://github.com/dtuggener/CharSplit/archive/master.zip\"\n",
    "filename = \"CharSplit.zip\"\n",
    "urllib.request.urlretrieve(url, filename)"
   ]
  },
  {
   "cell_type": "code",
   "execution_count": 13,
   "metadata": {},
   "outputs": [],
   "source": [
    "import zipfile\n",
    "zip_ref = zipfile.ZipFile(filename, 'r')\n",
    "zip_ref.extractall()\n",
    "zip_ref.close()\n",
    "#import os, sys\n",
    "#os.rename(\"CharSplit-master\", \"CharSplit\")\n",
    "from shutil import copyfile\n",
    "for filename in os.listdir(\"CharSplit-master\"):\n",
    "    if filename != \"README.md\" and \n",
    "    copyfile(\"CharSplit-master/\" + filename, filename)"
   ]
  },
  {
   "cell_type": "code",
   "execution_count": 15,
   "metadata": {},
   "outputs": [],
   "source": [
    "import char_split, ngram_probs\n",
    "def compoundSplit(string):\n",
    "    request = char_split.split_compound(string)[0]\n",
    "    if request[0] <= 0:\n",
    "        return [string]\n",
    "    else:\n",
    "        return compoundSplit(request[1]) + compoundSplit(request[2])"
   ]
  },
  {
   "cell_type": "code",
   "execution_count": 16,
   "metadata": {},
   "outputs": [
    {
     "name": "stdout",
     "output_type": "stream",
     "text": [
      "['Arbeiter', 'Ver', 'Sicherungs', 'Gesetz']\n"
     ]
    }
   ],
   "source": [
    "string = \"Arbeiterversicherungsgesetz\"\n",
    "\n",
    "try:\n",
    "    split_list = compoundSplit(string)\n",
    "except RecursionError:\n",
    "    split_list = [string]\n",
    "    \n",
    "print(split_list)"
   ]
  },
  {
   "cell_type": "code",
   "execution_count": null,
   "metadata": {},
   "outputs": [],
   "source": []
  }
 ],
 "metadata": {
  "kernelspec": {
   "display_name": "Python 3",
   "language": "python",
   "name": "python3"
  },
  "language_info": {
   "codemirror_mode": {
    "name": "ipython",
    "version": 3
   },
   "file_extension": ".py",
   "mimetype": "text/x-python",
   "name": "python",
   "nbconvert_exporter": "python",
   "pygments_lexer": "ipython3",
   "version": "3.6.4"
  }
 },
 "nbformat": 4,
 "nbformat_minor": 2
}
