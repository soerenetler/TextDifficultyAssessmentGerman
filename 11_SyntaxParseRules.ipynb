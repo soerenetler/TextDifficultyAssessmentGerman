{
 "cells": [
  {
   "cell_type": "markdown",
   "metadata": {},
   "source": [
    "# Parse Rule Features"
   ]
  },
  {
   "cell_type": "markdown",
   "metadata": {},
   "source": [
    "* Import necessary libraries"
   ]
  },
  {
   "cell_type": "code",
   "execution_count": 1,
   "metadata": {},
   "outputs": [],
   "source": [
    "import ast\n",
    "from collections import Counter, defaultdict\n",
    "import de_core_news_sm\n",
    "import itertools\n",
    "from nltk import word_tokenize, sent_tokenize\n",
    "import matplotlib.pyplot as plt\n",
    "import numpy as np\n",
    "import pandas as pd\n",
    "import pprint\n",
    "import re\n",
    "from sklearn.ensemble import BaggingClassifier\n",
    "from sklearn.feature_selection import chi2, SelectKBest, f_classif\n",
    "from sklearn.metrics import confusion_matrix\n",
    "from sklearn.metrics import mean_squared_error\n",
    "from sklearn.model_selection import cross_val_score\n",
    "from sklearn.model_selection import train_test_split\n",
    "from sklearn.tree import DecisionTreeClassifier\n",
    "from sklearn.linear_model import LogisticRegression\n",
    "from sklearn.svm import SVC\n",
    "import spacy\n",
    "import string"
   ]
  },
  {
   "cell_type": "markdown",
   "metadata": {},
   "source": [
    "* Load data"
   ]
  },
  {
   "cell_type": "code",
   "execution_count": 3,
   "metadata": {},
   "outputs": [],
   "source": [
    "df = pd.read_csv(\"datasets/08_SyntaxComplexity/01_Preprocessing_df.csv\", sep=\"|\", lineterminator = '\\n')\n",
    "df['Level_ABC'] = df.apply (lambda row: (row[\"Level\"][0]),axis=1)\n",
    "df = df[df.Level_ABC != \"L\"]\n",
    "df = df[df.Type == \"Writing\"]\n",
    "level = df.groupby('Level_ABC')\n",
    "df = level.apply(lambda x: x.sample(level.size().min()).reset_index(drop=True))"
   ]
  },
  {
   "cell_type": "code",
   "execution_count": 4,
   "metadata": {},
   "outputs": [
    {
     "name": "stderr",
     "output_type": "stream",
     "text": [
      "C:\\Users\\Ditty\\Anaconda3\\lib\\site-packages\\ipykernel_launcher.py:8: FutureWarning: 'Level_ABC' is both an index level and a column label.\n",
      "Defaulting to column, but this will raise an ambiguity error in a future version\n",
      "  \n",
      "C:\\Users\\Ditty\\Anaconda3\\lib\\site-packages\\ipykernel_launcher.py:11: FutureWarning: 'Level_ABC' is both an index level and a column label.\n",
      "Defaulting to column, but this will raise an ambiguity error in a future version\n",
      "  # This is added back by InteractiveShellApp.init_path()\n"
     ]
    }
   ],
   "source": [
    "#create two dataframes for different sources\n",
    "cleg = df[df.Source == \"CLEG\"]\n",
    "cleg = cleg[cleg.Level_ABC.isin([\"B\",\"C\"])]\n",
    "\n",
    "b_c = df[df.Source != \"CLEG\"]\n",
    "b_c = b_c[b_c.Level_ABC.isin([\"B\",\"C\"])]\n",
    "\n",
    "level = b_c.groupby(\"Level_ABC\")\n",
    "b_c = level.apply(lambda x: x.sample(level.size().min()).reset_index(drop=True))\n",
    "\n",
    "level_cleg = cleg.groupby(\"Level_ABC\")\n",
    "cleg = level_cleg.apply(lambda x: x.sample(level_cleg.size().min()).reset_index(drop=True))"
   ]
  },
  {
   "cell_type": "code",
   "execution_count": 5,
   "metadata": {},
   "outputs": [
    {
     "name": "stderr",
     "output_type": "stream",
     "text": [
      "C:\\Users\\Ditty\\Anaconda3\\lib\\site-packages\\ipykernel_launcher.py:1: FutureWarning: 'Level_ABC' is both an index level and a column label.\n",
      "Defaulting to column, but this will raise an ambiguity error in a future version\n",
      "  \"\"\"Entry point for launching an IPython kernel.\n"
     ]
    },
    {
     "data": {
      "text/html": [
       "<div>\n",
       "<style scoped>\n",
       "    .dataframe tbody tr th:only-of-type {\n",
       "        vertical-align: middle;\n",
       "    }\n",
       "\n",
       "    .dataframe tbody tr th {\n",
       "        vertical-align: top;\n",
       "    }\n",
       "\n",
       "    .dataframe thead th {\n",
       "        text-align: right;\n",
       "    }\n",
       "</style>\n",
       "<table border=\"1\" class=\"dataframe\">\n",
       "  <thead>\n",
       "    <tr style=\"text-align: right;\">\n",
       "      <th></th>\n",
       "      <th>Level</th>\n",
       "      <th>Title</th>\n",
       "      <th>Text</th>\n",
       "      <th>Source</th>\n",
       "      <th>Type</th>\n",
       "      <th>newLevel</th>\n",
       "      <th>cleanedText</th>\n",
       "      <th>SE_ratioRealSpellingErrors</th>\n",
       "      <th>SE_ratioSpellingErrors</th>\n",
       "      <th>SE_ratioSpellingErrorsWithCorrection</th>\n",
       "      <th>SE_ratioSpellingErrorsWithoutCorrection</th>\n",
       "      <th>SE_ratioUmlautSpellingErrors</th>\n",
       "      <th>SE_ratioCapitalisationErrors</th>\n",
       "      <th>RFTagger</th>\n",
       "      <th>parsedText</th>\n",
       "    </tr>\n",
       "    <tr>\n",
       "      <th>Level_ABC</th>\n",
       "      <th></th>\n",
       "      <th></th>\n",
       "      <th></th>\n",
       "      <th></th>\n",
       "      <th></th>\n",
       "      <th></th>\n",
       "      <th></th>\n",
       "      <th></th>\n",
       "      <th></th>\n",
       "      <th></th>\n",
       "      <th></th>\n",
       "      <th></th>\n",
       "      <th></th>\n",
       "      <th></th>\n",
       "      <th></th>\n",
       "    </tr>\n",
       "  </thead>\n",
       "  <tbody>\n",
       "    <tr>\n",
       "      <th>A</th>\n",
       "      <td>549</td>\n",
       "      <td>0</td>\n",
       "      <td>549</td>\n",
       "      <td>549</td>\n",
       "      <td>549</td>\n",
       "      <td>549</td>\n",
       "      <td>549</td>\n",
       "      <td>549</td>\n",
       "      <td>549</td>\n",
       "      <td>549</td>\n",
       "      <td>549</td>\n",
       "      <td>549</td>\n",
       "      <td>549</td>\n",
       "      <td>549</td>\n",
       "      <td>549</td>\n",
       "    </tr>\n",
       "    <tr>\n",
       "      <th>B</th>\n",
       "      <td>549</td>\n",
       "      <td>0</td>\n",
       "      <td>549</td>\n",
       "      <td>549</td>\n",
       "      <td>549</td>\n",
       "      <td>549</td>\n",
       "      <td>549</td>\n",
       "      <td>549</td>\n",
       "      <td>549</td>\n",
       "      <td>549</td>\n",
       "      <td>549</td>\n",
       "      <td>549</td>\n",
       "      <td>549</td>\n",
       "      <td>549</td>\n",
       "      <td>549</td>\n",
       "    </tr>\n",
       "    <tr>\n",
       "      <th>C</th>\n",
       "      <td>549</td>\n",
       "      <td>0</td>\n",
       "      <td>549</td>\n",
       "      <td>549</td>\n",
       "      <td>549</td>\n",
       "      <td>549</td>\n",
       "      <td>549</td>\n",
       "      <td>549</td>\n",
       "      <td>549</td>\n",
       "      <td>549</td>\n",
       "      <td>549</td>\n",
       "      <td>549</td>\n",
       "      <td>549</td>\n",
       "      <td>549</td>\n",
       "      <td>549</td>\n",
       "    </tr>\n",
       "  </tbody>\n",
       "</table>\n",
       "</div>"
      ],
      "text/plain": [
       "           Level  Title  Text  Source  Type  newLevel  cleanedText  \\\n",
       "Level_ABC                                                            \n",
       "A            549      0   549     549   549       549          549   \n",
       "B            549      0   549     549   549       549          549   \n",
       "C            549      0   549     549   549       549          549   \n",
       "\n",
       "           SE_ratioRealSpellingErrors  SE_ratioSpellingErrors  \\\n",
       "Level_ABC                                                       \n",
       "A                                 549                     549   \n",
       "B                                 549                     549   \n",
       "C                                 549                     549   \n",
       "\n",
       "           SE_ratioSpellingErrorsWithCorrection  \\\n",
       "Level_ABC                                         \n",
       "A                                           549   \n",
       "B                                           549   \n",
       "C                                           549   \n",
       "\n",
       "           SE_ratioSpellingErrorsWithoutCorrection  \\\n",
       "Level_ABC                                            \n",
       "A                                              549   \n",
       "B                                              549   \n",
       "C                                              549   \n",
       "\n",
       "           SE_ratioUmlautSpellingErrors  SE_ratioCapitalisationErrors  \\\n",
       "Level_ABC                                                               \n",
       "A                                   549                           549   \n",
       "B                                   549                           549   \n",
       "C                                   549                           549   \n",
       "\n",
       "           RFTagger  parsedText  \n",
       "Level_ABC                        \n",
       "A               549         549  \n",
       "B               549         549  \n",
       "C               549         549  "
      ]
     },
     "execution_count": 5,
     "metadata": {},
     "output_type": "execute_result"
    }
   ],
   "source": [
    "df.groupby('Level_ABC').count()"
   ]
  },
  {
   "cell_type": "markdown",
   "metadata": {},
   "source": [
    "* Get features"
   ]
  },
  {
   "cell_type": "code",
   "execution_count": 6,
   "metadata": {},
   "outputs": [],
   "source": [
    "#helper functions\n",
    "def get_constituent_indices(line, open_bracket = '(', closed_bracket = ')'):\n",
    "    \"\"\"\n",
    "    helper function that yields start and end indices of constituents, ie elements enclosed in brackets\n",
    "    \"\"\"  \n",
    "    #initialize empty stack\n",
    "    stack = []\n",
    "    \n",
    "    #find indices between open and closed brackets\n",
    "    for m in re.finditer(r'[()]'.format(open_bracket, closed_bracket), line):\n",
    "        pos = m.start()        \n",
    "        check = line[pos]\n",
    "        if check == open_bracket:\n",
    "            stack.append(pos+1)\n",
    "\n",
    "        elif check == closed_bracket:\n",
    "            if len(stack) > 0:\n",
    "                prev_pos = stack.pop()\n",
    "                yield (prev_pos, pos)\n",
    "                \n",
    "def get_rules(sentence):\n",
    "    \"\"\"\n",
    "    funtion that takes a parsed sentence as a string as input and outputs a list of rules as strings\n",
    "    \"\"\"\n",
    "    rules = []\n",
    "    #get substrings of the string enclosed in brackets\n",
    "    for openpos, closepos in get_constituent_indices(sentence):\n",
    "        sub = sentence[openpos:closepos]\n",
    "        #remove the closed brackets\n",
    "        sub = sub.replace(\")\", \"\")\n",
    "        #make string into a list\n",
    "        lst = sub.split(\" \")\n",
    "        #ignore pre-constitents\n",
    "        if len(lst) > 2:\n",
    "            #check terminals in the list\n",
    "            new = str([word for word in lst if word.isupper()])\n",
    "            rules.append(new) \n",
    "    return rules\n",
    "                \n",
    "def get_text_rules(text):\n",
    "    '''\n",
    "    function that returns rules from one text as a list\n",
    "    '''\n",
    "    text_rules = []\n",
    "    for ind, sentence in enumerate(ast.literal_eval(text)):\n",
    "        \n",
    "        if sentence != []:\n",
    "            rules = get_rules(str(sentence[:-1]))\n",
    "            for rule in rules:\n",
    "                text_rules.append(rule)           \n",
    "    return text_rules \n",
    "\n",
    "def get_all_rules(df):\n",
    "    '''\n",
    "    function that returns all rules of a dataframe as a set\n",
    "    '''\n",
    "    all_rules = defaultdict(int)\n",
    "    for row in df.iterrows():\n",
    "        rules = get_text_rules(row[1][\"parsedText\"])\n",
    "        for rule in rules:\n",
    "            all_rules[rule] += 1\n",
    "            \n",
    "    return set([key for key in all_rules if all_rules[key] > 10])\n",
    "\n",
    "def create_dic(df):\n",
    "    '''\n",
    "    function that creates a nested dictionary of rules out of a data frames\n",
    "    {index of sentence: {rule : times it occurs}}\n",
    "    '''\n",
    "    rules = get_all_rules(df)\n",
    "    dic = defaultdict(lambda: defaultdict(int))\n",
    "    for ind, row in enumerate(df.iterrows()):\n",
    "        \n",
    "        text_rules = get_text_rules(row[1][\"parsedText\"])\n",
    "        if text_rules != []:\n",
    "            for rule in text_rules:\n",
    "                if rule in rules:\n",
    "                    dic[ind][rule] += 1\n",
    "        else:\n",
    "            dic[ind] = []\n",
    "    return dic\n",
    "\n",
    "def feature_dicts_to_matrix(dic, df):    \n",
    "    '''\n",
    "    function that turns the dictionary created by the create_dic function into into a matrix   \n",
    "    ''' \n",
    "    all_rules = list(get_all_rules(df))    \n",
    "    feature_matrix = np.zeros((len(dic), len(all_rules))) \n",
    " \n",
    "    for ind in dic:\n",
    "        for rule in dic[ind]:\n",
    "            feature_matrix[ind][all_rules.index(rule)] = dic[ind][rule] \n",
    "\n",
    "    return feature_matrix"
   ]
  },
  {
   "cell_type": "code",
   "execution_count": 7,
   "metadata": {},
   "outputs": [
    {
     "name": "stdout",
     "output_type": "stream",
     "text": [
      "1222\n"
     ]
    }
   ],
   "source": [
    "all_rules = get_all_rules(df)\n",
    "print(len(all_rules))"
   ]
  },
  {
   "cell_type": "code",
   "execution_count": 8,
   "metadata": {},
   "outputs": [],
   "source": [
    "def get_parse_rule_features(df):\n",
    "    '''\n",
    "    function that returns train matrix, train levels, test matrix, test levels, feature list and the matrix for the whole df\n",
    "    '''\n",
    "    feature_list = [rule for rule in get_all_rules(df)]\n",
    "    train, test = train_test_split(df)\n",
    "    all_matrix = feature_dicts_to_matrix(create_dic(df), df)\n",
    "    train_matrix = feature_dicts_to_matrix(create_dic(train), df)\n",
    "    test_matrix = feature_dicts_to_matrix(create_dic(test), df)\n",
    "    \n",
    "    return train_matrix, train[\"Level_ABC\"], test_matrix, test[\"Level_ABC\"], feature_list, all_matrix"
   ]
  },
  {
   "cell_type": "code",
   "execution_count": 9,
   "metadata": {},
   "outputs": [],
   "source": [
    "def train_model(df, model, get_features_function):    \n",
    "    clf = model\n",
    "    train_matrix, train_level, test_matrix, test_level, feature_list, all_matrix = get_features_function(df)\n",
    "    clf.fit(train_matrix, train_level)\n",
    "    return clf"
   ]
  },
  {
   "cell_type": "code",
   "execution_count": 10,
   "metadata": {},
   "outputs": [],
   "source": [
    "def return_cross_val_scores(df, model, get_features_function):\n",
    "    clf = model\n",
    "    if isinstance(df, pd.DataFrame):\n",
    "        return cross_val_score(clf, get_features_function(df)[5], df[\"Level_ABC\"], cv=10)\n",
    "        \n",
    "    else:\n",
    "        return cross_val_score(clf, df[0], df[1], cv=10)"
   ]
  },
  {
   "cell_type": "code",
   "execution_count": 11,
   "metadata": {},
   "outputs": [],
   "source": [
    "def select_n_best_features(df, k):\n",
    "    train_matrix, train_level, test_matrix, test_level, feature_list, all_matrix = get_parse_rule_features(df)\n",
    "    model = SelectKBest(chi2, k).fit(train_matrix, train_level) \n",
    "    indices = model.get_support(indices=True)\n",
    "    scores = model.scores_ \n",
    "    p_values = model.pvalues_\n",
    "    X_new = model.transform(all_matrix)\n",
    "    return X_new, df['Level_ABC'], indices, scores, p_values, feature_list"
   ]
  },
  {
   "cell_type": "markdown",
   "metadata": {},
   "source": [
    "* Test different number of features"
   ]
  },
  {
   "cell_type": "code",
   "execution_count": 26,
   "metadata": {},
   "outputs": [
    {
     "name": "stdout",
     "output_type": "stream",
     "text": [
      "Accuracy of  10  parse rule features: 0.7073737373737374 +- 0.022748811342758506\n",
      "Accuracy of  20  parse rule features: 0.7322334455667788 +- 0.02162664817957132\n",
      "Accuracy of  50  parse rule features: 0.7401010101010101 +- 0.021159386107514874\n"
     ]
    }
   ],
   "source": [
    "for n in [10, 20, 50]:\n",
    "    new_X, new_y, indices, feature_scores, p_values, all_rules = select_n_best_features(df, n)\n",
    "    scores = return_cross_val_scores((new_X, new_y), SVC(), get_parse_rule_features)\n",
    "    print(\"Accuracy of\", n, \"parse rule features:\", (scores).mean(), \"+-\",(scores).std())"
   ]
  },
  {
   "cell_type": "code",
   "execution_count": 27,
   "metadata": {},
   "outputs": [
    {
     "name": "stdout",
     "output_type": "stream",
     "text": [
      "Accuracy of  100  parse rule features: 0.7601346801346802 +- 0.025057020983779654\n",
      "Accuracy of  200  parse rule features: 0.7661728395061729 +- 0.02830118051363292\n",
      "Accuracy of  500  parse rule features: 0.7722446689113356 +- 0.03329639486501223\n"
     ]
    }
   ],
   "source": [
    "for n in [100, 200, 500]:\n",
    "    new_X, new_y, indices, feature_scores, p_values, all_rules = select_n_best_features(df, n)\n",
    "    scores = return_cross_val_scores((new_X, new_y), SVC(), get_parse_rule_features)\n",
    "    print(\"Accuracy of\", n, \"parse rule features:\", (scores).mean(), \"+-\",(scores).std())"
   ]
  },
  {
   "cell_type": "code",
   "execution_count": 28,
   "metadata": {},
   "outputs": [
    {
     "name": "stdout",
     "output_type": "stream",
     "text": [
      "Accuracy of all parse rule features: 0.7570482603815938 +- 0.030716391313898625\n"
     ]
    }
   ],
   "source": [
    "for n in [\"all\"]:\n",
    "    new_X, new_y, indices, feature_scores, p_values, all_rules = select_n_best_features(df, n)\n",
    "    scores = return_cross_val_scores((new_X, new_y), SVC(), get_parse_rule_features)\n",
    "    print(\"Accuracy of\", n, \"parse rule features:\", (scores).mean(), \"+-\",(scores).std())"
   ]
  },
  {
   "cell_type": "code",
   "execution_count": 29,
   "metadata": {},
   "outputs": [],
   "source": [
    "def clean_rule_up(rule):\n",
    "    return re.sub(r'[^\\w\\s]','',rule)"
   ]
  },
  {
   "cell_type": "code",
   "execution_count": 30,
   "metadata": {},
   "outputs": [
    {
     "name": "stdout",
     "output_type": "stream",
     "text": [
      "Best 20 parse rules:\n",
      "['PP APPR ART ADJA NN',\n",
      " 'NP PIAT NN',\n",
      " 'PP APPR NN',\n",
      " 'PP PROAV',\n",
      " 'NP ART ADJA NN',\n",
      " 'PP APPRART NN',\n",
      " 'PP APPR PDAT NN',\n",
      " 'AVP ADV ADV',\n",
      " 'CNP NN KON NN',\n",
      " 'AP ADV ADJD',\n",
      " 'NP ADJA NN',\n",
      " 'PP APPR ART NN',\n",
      " 'NP PDAT NN',\n",
      " 'NP ART NN NP ART NN',\n",
      " 'NP PIDAT NN',\n",
      " 'PP APPR ADJA NN',\n",
      " 'PP APPR ART NN NP ART NN',\n",
      " 'NP ART NN',\n",
      " 'VZ PTKZU VVINF',\n",
      " 'CAP ADJA KON ADJA']\n"
     ]
    }
   ],
   "source": [
    "print(\"Best 20 parse rules:\")\n",
    "new_X, new_y, indices, feature_scores, p_values, all_rules = select_n_best_features(df, 20)\n",
    "pprint.pprint([clean_rule_up(all_rules[ind]) for ind in indices])"
   ]
  },
  {
   "cell_type": "markdown",
   "metadata": {},
   "source": [
    "* Visualize"
   ]
  },
  {
   "cell_type": "code",
   "execution_count": 31,
   "metadata": {},
   "outputs": [],
   "source": [
    "def plot_confusion_matrix(cm, classes,\n",
    "                          normalize=False,\n",
    "                          title='Confusion matrix',\n",
    "                          cmap=plt.cm.Blues):\n",
    "    \"\"\"\n",
    "    This function prints and plots the confusion matrix.\n",
    "    Normalization can be applied by setting `normalize=True`.\n",
    "    \"\"\"\n",
    "    if normalize:\n",
    "        cm = cm.astype('float') / cm.sum(axis=1)[:, np.newaxis]\n",
    "\n",
    "    plt.imshow(cm, interpolation='nearest', cmap=cmap)\n",
    "    plt.title(title)\n",
    "    plt.colorbar()\n",
    "    tick_marks = np.arange(len(classes))\n",
    "    plt.xticks(tick_marks, classes, rotation=45)\n",
    "    plt.yticks(tick_marks, classes)\n",
    "\n",
    "    fmt = '.2f' if normalize else 'd'\n",
    "    thresh = cm.max() / 2.\n",
    "    for i, j in itertools.product(range(cm.shape[0]), range(cm.shape[1])):\n",
    "        plt.text(j, i, format(cm[i, j], fmt),\n",
    "                 horizontalalignment=\"center\",\n",
    "                 color=\"white\" if cm[i, j] > thresh else \"black\")\n",
    "\n",
    "    plt.tight_layout()\n",
    "    plt.ylabel('True label')"
   ]
  },
  {
   "cell_type": "code",
   "execution_count": 32,
   "metadata": {},
   "outputs": [
    {
     "data": {
      "image/png": "[encoded data removed]",
      "text/plain": [
       "<Figure size 432x288 with 2 Axes>"
      ]
     },
     "metadata": {},
     "output_type": "display_data"
    }
   ],
   "source": [
    "def select_n_best_features_for_cm(df, k):\n",
    "    train_matrix, train_level, test_matrix, test_level, feature_list, all_matrix = get_parse_rule_features(df)\n",
    "    model = SelectKBest(chi2, k).fit(train_matrix, train_level) \n",
    "    train_matrix_new = model.transform(train_matrix)\n",
    "    test_matrix_new = model.transform(test_matrix)\n",
    "    return train_matrix_new, train_level, test_matrix_new, test_level\n",
    "\n",
    "train_matrix_new, train_level, test_matrix_new, test_level = select_n_best_features_for_cm(df, 500)\n",
    "clf = SVC()\n",
    "clf.fit(train_matrix_new, train_level)\n",
    "level_pred = clf.predict(test_matrix_new)\n",
    "\n",
    "cnf_matrix = confusion_matrix(test_level, level_pred)\n",
    "class_names = [\"A\", \"B\", \"C\"]\n",
    "plt.figure()\n",
    "plot_confusion_matrix(cnf_matrix, classes=class_names,\n",
    "                      title='Confusion matrix, without normalization')"
   ]
  },
  {
   "cell_type": "code",
   "execution_count": null,
   "metadata": {},
   "outputs": [],
   "source": []
  }
 ],
 "metadata": {
  "kernelspec": {
   "display_name": "Python 3",
   "language": "python",
   "name": "python3"
  },
  "language_info": {
   "codemirror_mode": {
    "name": "ipython",
    "version": 3
   },
   "file_extension": ".py",
   "mimetype": "text/x-python",
   "name": "python",
   "nbconvert_exporter": "python",
   "pygments_lexer": "ipython3",
   "version": "3.6.4"
  }
 },
 "nbformat": 4,
 "nbformat_minor": 2
}
