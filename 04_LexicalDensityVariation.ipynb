{
 "cells": [
  {
   "cell_type": "markdown",
   "metadata": {},
   "source": [
    "## Lexical Density and Variation Features"
   ]
  },
  {
   "cell_type": "code",
   "execution_count": 23,
   "metadata": {},
   "outputs": [],
   "source": [
    "from collections import Counter, defaultdict\n",
    "import de_core_news_sm\n",
    "from math import sqrt, log\n",
    "from nltk import word_tokenize\n",
    "import numpy as np\n",
    "import pandas as pd\n",
    "from tqdm import tqdm\n",
    "import os"
   ]
  },
  {
   "cell_type": "code",
   "execution_count": 24,
   "metadata": {},
   "outputs": [],
   "source": [
    "def safe_div(a,b):\n",
    "    try:\n",
    "        return a/b\n",
    "    except:\n",
    "        return 0"
   ]
  },
  {
   "cell_type": "code",
   "execution_count": 25,
   "metadata": {},
   "outputs": [],
   "source": [
    "#Lexical Density #Tok Lex / #Tok \n",
    "#Lexical Word Variation #Typ Lex / #Tok Lex \n",
    "#Noun Variation #Typ Noun / #Tok Lex\n",
    "#Adjective Variation #Typ Adj / #Tok Lex\n",
    "#Adverb Variation #Typ Adv / #Tok Lex\n",
    "#Modifer Variation (#Typ Adj + #Typ Adv) / #Tok Lex \n",
    "#Verb Variation 2 #Typ Verb / #Tok Verb \n",
    "#Verb Variation 1 #Typ Verb / #Tok Lex\n",
    "#Squared Verb Variation 1 #Typ Verb^2 / #Tok Verb \n",
    "#Corrected Verb Variation 1 #Typ Verb / sqrt(2*#Tok Verb) \n",
    "#Verb Token Ratio #Tok Verb/#Tok\n",
    "#Noun Token Ratio #Tok Noun/#Tok \n",
    "#Verb-Noun Token Ratio #Tok Verb/#Tok Noun "
   ]
  },
  {
   "cell_type": "code",
   "execution_count": 26,
   "metadata": {},
   "outputs": [],
   "source": [
    "nlp = de_core_news_sm.load()"
   ]
  },
  {
   "cell_type": "code",
   "execution_count": 27,
   "metadata": {},
   "outputs": [],
   "source": [
    "lexical_tags = [\"ADJA\", \"ADJD\", \"ADV\", \"NE\", \"NNE\", \"NN\", \"VVFIN\", \"VVIMP\", \"VVINF\", \"VVIZU\", \"VVPP\"]"
   ]
  },
  {
   "cell_type": "code",
   "execution_count": 28,
   "metadata": {},
   "outputs": [],
   "source": [
    "def lexical_density(text):\n",
    "    doc = nlp(text)\n",
    "    no_lex = len([tok for tok in doc if tok.tag_ in lexical_tags])\n",
    "    return safe_div(no_lex, len(doc))"
   ]
  },
  {
   "cell_type": "code",
   "execution_count": 29,
   "metadata": {},
   "outputs": [],
   "source": [
    "def lexical_word_variation(text):\n",
    "    doc = nlp(text)\n",
    "    no_lex = [str(tok) for tok in doc if tok.tag_ in lexical_tags]\n",
    "    return safe_div(len(set(no_lex)), len(no_lex))\n",
    "    "
   ]
  },
  {
   "cell_type": "code",
   "execution_count": 30,
   "metadata": {},
   "outputs": [],
   "source": [
    "def pos_variation(text, pos):\n",
    "    doc = nlp(text)\n",
    "    no_nouns = len([tok for tok in doc if tok.pos_ == pos])\n",
    "    no_lex = len([tok for tok in doc if tok.tag_ in lexical_tags])\n",
    "    return safe_div(no_nouns, no_lex)"
   ]
  },
  {
   "cell_type": "code",
   "execution_count": 31,
   "metadata": {},
   "outputs": [],
   "source": [
    "def noun_variation(text):\n",
    "    return pos_variation(text, \"NOUN\")"
   ]
  },
  {
   "cell_type": "code",
   "execution_count": 32,
   "metadata": {},
   "outputs": [],
   "source": [
    "def adj_variation(text):\n",
    "    return pos_variation(text, \"ADJ\")"
   ]
  },
  {
   "cell_type": "code",
   "execution_count": 33,
   "metadata": {},
   "outputs": [],
   "source": [
    "def adv_variation(text):\n",
    "    return pos_variation(text, \"ADV\")"
   ]
  },
  {
   "cell_type": "code",
   "execution_count": 34,
   "metadata": {},
   "outputs": [],
   "source": [
    "def modifier_variation(text):\n",
    "    doc = nlp(text)\n",
    "    no_mods = len([tok for tok in doc if tok.pos_ == \"ADJ\"  or tok.pos_ == \"ADV\"])\n",
    "    no_lex = len([tok for tok in doc if tok.tag_ in lexical_tags])\n",
    "    return safe_div(no_mods, no_lex)"
   ]
  },
  {
   "cell_type": "code",
   "execution_count": 35,
   "metadata": {},
   "outputs": [],
   "source": [
    "def verb_variation1(text):\n",
    "    return pos_variation(text, \"VERB\")"
   ]
  },
  {
   "cell_type": "code",
   "execution_count": 36,
   "metadata": {},
   "outputs": [],
   "source": [
    "def verb_variation2(text):\n",
    "    doc = nlp(text)\n",
    "    verbs = [str(tok) for tok in doc if tok.pos_ == \"VERB\"]\n",
    "    return safe_div(len(set(verbs)), len(verbs))"
   ]
  },
  {
   "cell_type": "code",
   "execution_count": 37,
   "metadata": {},
   "outputs": [],
   "source": [
    "def squared_verb_variation(text):\n",
    "    doc = nlp(text)\n",
    "    verbs = [str(tok) for tok in doc if tok.pos_ == \"VERB\"]\n",
    "    return safe_div((len(set(verbs)) ** 2), len(verbs))"
   ]
  },
  {
   "cell_type": "code",
   "execution_count": 38,
   "metadata": {},
   "outputs": [],
   "source": [
    "def corrected_verb_variation(text):\n",
    "    doc = nlp(text)\n",
    "    verbs = [str(tok) for tok in doc if tok.pos_ == \"VERB\"]\n",
    "    return safe_div(len(set(verbs)), (sqrt(2 * len(verbs))))\n"
   ]
  },
  {
   "cell_type": "code",
   "execution_count": 39,
   "metadata": {},
   "outputs": [],
   "source": [
    "def verb_token_ratio(text):\n",
    "    doc = nlp(text)\n",
    "    verbs = [str(tok) for tok in doc if tok.pos_ == \"VERB\"]\n",
    "    return safe_div(len(verbs), len(doc))"
   ]
  },
  {
   "cell_type": "code",
   "execution_count": 40,
   "metadata": {},
   "outputs": [],
   "source": [
    "def noun_token_ratio(text):\n",
    "    doc = nlp(text)\n",
    "    nouns = [str(tok) for tok in doc if tok.pos_ == \"NOUN\"]\n",
    "    return safe_div(len(nouns), len(doc))"
   ]
  },
  {
   "cell_type": "code",
   "execution_count": 41,
   "metadata": {},
   "outputs": [],
   "source": [
    "def verb_noun_token_ratio(text):\n",
    "    doc = nlp(text)\n",
    "    nouns = [str(tok) for tok in doc if tok.pos_ == \"NOUN\"]\n",
    "    verbs = [str(tok) for tok in doc if tok.pos_ == \"VERB\"]\n",
    "    return safe_div(len(verbs), len(nouns))"
   ]
  },
  {
   "cell_type": "code",
   "execution_count": 42,
   "metadata": {},
   "outputs": [],
   "source": [
    "LV_feature_functions = [lexical_density, lexical_word_variation, noun_variation, adj_variation, adv_variation, \n",
    "                        modifier_variation, verb_variation1, verb_variation2, squared_verb_variation, \n",
    "                        corrected_verb_variation, verb_token_ratio, noun_token_ratio, verb_noun_token_ratio]"
   ]
  },
  {
   "cell_type": "code",
   "execution_count": 44,
   "metadata": {},
   "outputs": [
    {
     "name": "stderr",
     "output_type": "stream",
     "text": [
      "100%|██████████| 13/13 [14:56<00:00, 68.95s/it]\n",
      "100%|██████████| 13/13 [13:45<00:00, 63.54s/it]\n",
      "100%|██████████| 13/13 [18:06<00:00, 83.56s/it]\n",
      "100%|██████████| 13/13 [06:23<00:00, 29.48s/it]\n",
      "100%|██████████| 13/13 [06:42<00:00, 30.93s/it]\n",
      "100%|██████████| 13/13 [10:01<00:00, 46.27s/it]\n",
      "100%|██████████| 13/13 [10:03<00:00, 46.40s/it]\n",
      "100%|██████████| 13/13 [14:31<00:00, 67.05s/it]\n",
      "100%|██████████| 13/13 [07:21<00:00, 33.96s/it]\n",
      "100%|██████████| 13/13 [04:23<00:00, 20.24s/it]\n",
      "100%|██████████| 13/13 [04:47<00:00, 22.11s/it]\n",
      "100%|██████████| 13/13 [09:56<00:00, 45.85s/it]\n",
      "100%|██████████| 13/13 [21:15<00:00, 98.12s/it]\n",
      "100%|██████████| 13/13 [24:16<00:00, 112.04s/it]\n",
      "100%|██████████| 13/13 [15:33<00:00, 71.82s/it]\n",
      "100%|██████████| 13/13 [15:15<00:00, 70.43s/it]\n",
      "100%|██████████| 13/13 [07:07<00:00, 32.89s/it]\n",
      "100%|██████████| 13/13 [07:50<00:00, 36.17s/it]\n",
      "100%|██████████| 13/13 [15:03<00:00, 69.47s/it]\n",
      "100%|██████████| 13/13 [18:28<00:00, 85.29s/it]\n",
      "100%|██████████| 13/13 [05:00<00:00, 23.09s/it]\n",
      "100%|██████████| 13/13 [03:58<00:00, 18.35s/it]\n",
      "100%|██████████| 13/13 [04:36<00:00, 21.27s/it]\n",
      "100%|██████████| 13/13 [03:35<00:00, 16.59s/it]\n",
      "100%|██████████| 13/13 [29:15<00:00, 135.06s/it]\n",
      "100%|██████████| 13/13 [10:39<00:00, 49.20s/it]\n",
      "100%|██████████| 13/13 [08:29<00:00, 39.22s/it]\n",
      "100%|██████████| 13/13 [09:00<00:00, 41.61s/it]\n",
      "100%|██████████| 13/13 [18:28<00:00, 85.25s/it]\n",
      "100%|██████████| 13/13 [05:28<00:00, 25.27s/it]\n"
     ]
    }
   ],
   "source": [
    "def save_df(path,df):\n",
    "    df.to_csv(path,sep=\"|\",index=False)\n",
    "\n",
    "input_files = os.listdir(\"/home/soeren/Documents/TextDifficultyAssessmentGerman/datasets/03_LexicalDiversity\")\n",
    "input_files = [input_file for input_file in input_files if not input_file in os.listdir(\"/home/soeren/Documents/TextDifficultyAssessmentGerman/datasets/04_LexicalVariation\")]\n",
    "\n",
    "for input_file in input_files:\n",
    "    df = pd.read_csv(\"datasets/03_LexicalDiversity/\" + input_file, sep=\"|\", lineterminator = '\\n')\n",
    "\n",
    "    for function in tqdm(LV_feature_functions):\n",
    "        df[\"LV-\"+function.__name__]  = [function(text) for text in df[\"cleanedText\"]]\n",
    "\n",
    "    filename = \"datasets/04_LexicalVariation/\" + input_file\n",
    "    save_df(filename, df)"
   ]
  }
 ],
 "metadata": {
  "kernelspec": {
   "display_name": "Python 3",
   "language": "python",
   "name": "python3"
  },
  "language_info": {
   "codemirror_mode": {
    "name": "ipython",
    "version": 3
   },
   "file_extension": ".py",
   "mimetype": "text/x-python",
   "name": "python",
   "nbconvert_exporter": "python",
   "pygments_lexer": "ipython3",
   "version": "3.6.4"
  }
 },
 "nbformat": 4,
 "nbformat_minor": 2
}
