{
 "cells": [
  {
   "cell_type": "markdown",
   "metadata": {},
   "source": [
    "## Lexical Density and Variation Features"
   ]
  },
  {
   "cell_type": "code",
   "execution_count": 30,
   "metadata": {},
   "outputs": [],
   "source": [
    "from collections import Counter, defaultdict\n",
    "import de_core_news_sm\n",
    "from math import sqrt, log\n",
    "from nltk import word_tokenize\n",
    "import numpy as np\n",
    "import pandas as pd\n",
    "from tqdm import tqdm\n",
    "import os"
   ]
  },
  {
   "cell_type": "code",
   "execution_count": 31,
   "metadata": {},
   "outputs": [],
   "source": [
    "def safe_div(a,b):\n",
    "    try:\n",
    "        return a/b\n",
    "    except:\n",
    "        return 0"
   ]
  },
  {
   "cell_type": "code",
   "execution_count": 32,
   "metadata": {},
   "outputs": [],
   "source": [
    "#Lexical Density #Tok Lex / #Tok \n",
    "#Lexical Word Variation #Typ Lex / #Tok Lex \n",
    "#Noun Variation #Typ Noun / #Tok Lex\n",
    "#Adjective Variation #Typ Adj / #Tok Lex\n",
    "#Adverb Variation #Typ Adv / #Tok Lex\n",
    "#Modifer Variation (#Typ Adj + #Typ Adv) / #Tok Lex \n",
    "#Verb Variation 2 #Typ Verb / #Tok Verb \n",
    "#Verb Variation 1 #Typ Verb / #Tok Lex\n",
    "#Squared Verb Variation 1 #Typ Verb^2 / #Tok Verb \n",
    "#Corrected Verb Variation 1 #Typ Verb / sqrt(2*#Tok Verb) \n",
    "#Verb Token Ratio #Tok Verb/#Tok\n",
    "#Noun Token Ratio #Tok Noun/#Tok \n",
    "#Verb-Noun Token Ratio #Tok Verb/#Tok Noun "
   ]
  },
  {
   "cell_type": "code",
   "execution_count": 33,
   "metadata": {},
   "outputs": [],
   "source": [
    "nlp = de_core_news_sm.load()"
   ]
  },
  {
   "cell_type": "code",
   "execution_count": 34,
   "metadata": {},
   "outputs": [],
   "source": [
    "lexical_tags = [\"ADJA\", \"ADJD\", \"ADV\", \"NE\", \"NNE\", \"NN\", \"VVFIN\", \"VVIMP\", \"VVINF\", \"VVIZU\", \"VVPP\"]"
   ]
  },
  {
   "cell_type": "code",
   "execution_count": 35,
   "metadata": {},
   "outputs": [],
   "source": [
    "def lexical_density(text):\n",
    "    doc = nlp(text)\n",
    "    no_lex = len([tok for tok in doc if tok.tag_ in lexical_tags])\n",
    "    return safe_div(no_lex, len(doc))"
   ]
  },
  {
   "cell_type": "code",
   "execution_count": 36,
   "metadata": {},
   "outputs": [],
   "source": [
    "def lexical_word_variation(text):\n",
    "    doc = nlp(text)\n",
    "    no_lex = [str(tok) for tok in doc if tok.tag_ in lexical_tags]\n",
    "    return safe_div(len(set(no_lex)), len(no_lex))\n",
    "    "
   ]
  },
  {
   "cell_type": "code",
   "execution_count": 37,
   "metadata": {},
   "outputs": [],
   "source": [
    "def pos_variation(text, pos):\n",
    "    doc = nlp(text)\n",
    "    no_nouns = len([tok for tok in doc if tok.pos_ == pos])\n",
    "    no_lex = len([tok for tok in doc if tok.tag_ in lexical_tags])\n",
    "    return safe_div(no_nouns, no_lex)"
   ]
  },
  {
   "cell_type": "code",
   "execution_count": 38,
   "metadata": {},
   "outputs": [],
   "source": [
    "def noun_variation(text):\n",
    "    return pos_variation(text, \"NOUN\")"
   ]
  },
  {
   "cell_type": "code",
   "execution_count": 39,
   "metadata": {},
   "outputs": [],
   "source": [
    "def adj_variation(text):\n",
    "    return pos_variation(text, \"ADJ\")"
   ]
  },
  {
   "cell_type": "code",
   "execution_count": 40,
   "metadata": {},
   "outputs": [],
   "source": [
    "def adv_variation(text):\n",
    "    return pos_variation(text, \"ADV\")"
   ]
  },
  {
   "cell_type": "code",
   "execution_count": 41,
   "metadata": {},
   "outputs": [],
   "source": [
    "def modifier_variation(text):\n",
    "    doc = nlp(text)\n",
    "    no_mods = len([tok for tok in doc if tok.pos_ == \"ADJ\"  or tok.pos_ == \"ADV\"])\n",
    "    no_lex = len([tok for tok in doc if tok.tag_ in lexical_tags])\n",
    "    return safe_div(no_mods, no_lex)"
   ]
  },
  {
   "cell_type": "code",
   "execution_count": 42,
   "metadata": {},
   "outputs": [],
   "source": [
    "def verb_variation1(text):\n",
    "    return pos_variation(text, \"VERB\")"
   ]
  },
  {
   "cell_type": "code",
   "execution_count": 43,
   "metadata": {},
   "outputs": [],
   "source": [
    "def verb_variation2(text):\n",
    "    doc = nlp(text)\n",
    "    verbs = [str(tok) for tok in doc if tok.pos_ == \"VERB\"]\n",
    "    return safe_div(len(set(verbs)), len(verbs))"
   ]
  },
  {
   "cell_type": "code",
   "execution_count": 44,
   "metadata": {},
   "outputs": [],
   "source": [
    "def squared_verb_variation(text):\n",
    "    doc = nlp(text)\n",
    "    verbs = [str(tok) for tok in doc if tok.pos_ == \"VERB\"]\n",
    "    return safe_div((len(set(verbs)) ** 2), len(verbs))"
   ]
  },
  {
   "cell_type": "code",
   "execution_count": 45,
   "metadata": {},
   "outputs": [],
   "source": [
    "def corrected_verb_variation(text):\n",
    "    doc = nlp(text)\n",
    "    verbs = [str(tok) for tok in doc if tok.pos_ == \"VERB\"]\n",
    "    return safe_div(len(set(verbs)), (sqrt(2 * len(verbs))))\n"
   ]
  },
  {
   "cell_type": "code",
   "execution_count": 46,
   "metadata": {},
   "outputs": [],
   "source": [
    "def verb_token_ratio(text):\n",
    "    doc = nlp(text)\n",
    "    verbs = [str(tok) for tok in doc if tok.pos_ == \"VERB\"]\n",
    "    return safe_div(len(verbs), len(doc))"
   ]
  },
  {
   "cell_type": "code",
   "execution_count": 47,
   "metadata": {},
   "outputs": [],
   "source": [
    "def noun_token_ratio(text):\n",
    "    doc = nlp(text)\n",
    "    nouns = [str(tok) for tok in doc if tok.pos_ == \"NOUN\"]\n",
    "    return safe_div(len(nouns), len(doc))"
   ]
  },
  {
   "cell_type": "code",
   "execution_count": 48,
   "metadata": {},
   "outputs": [],
   "source": [
    "def verb_noun_token_ratio(text):\n",
    "    doc = nlp(text)\n",
    "    nouns = [str(tok) for tok in doc if tok.pos_ == \"NOUN\"]\n",
    "    verbs = [str(tok) for tok in doc if tok.pos_ == \"VERB\"]\n",
    "    return safe_div(len(verbs), len(nouns))"
   ]
  },
  {
   "cell_type": "code",
   "execution_count": 49,
   "metadata": {},
   "outputs": [],
   "source": [
    "LV_feature_functions = [lexical_density, lexical_word_variation, noun_variation, adj_variation, adv_variation, \n",
    "                        modifier_variation, verb_variation1, verb_variation2, squared_verb_variation, \n",
    "                        corrected_verb_variation, verb_token_ratio, noun_token_ratio, verb_noun_token_ratio]"
   ]
  },
  {
   "cell_type": "code",
   "execution_count": null,
   "metadata": {},
   "outputs": [],
   "source": []
  },
  {
   "cell_type": "code",
   "execution_count": 50,
   "metadata": {},
   "outputs": [
    {
     "name": "stderr",
     "output_type": "stream",
     "text": [
      "\n",
      "\n",
      "\n",
      "  0%|          | 0/13 [00:00<?, ?it/s]\u001b[A\u001b[A\u001b[A\n",
      "\n",
      "\n",
      "  8%|▊         | 1/13 [02:42<32:29, 162.42s/it]\u001b[A\u001b[A\u001b[A\n",
      "\n",
      "\n",
      " 15%|█▌        | 2/13 [05:28<30:07, 164.30s/it]\u001b[A\u001b[A\u001b[A\n",
      "\n",
      "\n",
      " 23%|██▎       | 3/13 [08:12<27:20, 164.08s/it]\u001b[A\u001b[A\u001b[A\n",
      "\n",
      "\n",
      " 31%|███       | 4/13 [10:48<24:18, 162.09s/it]\u001b[A\u001b[A\u001b[A\n",
      "\n",
      "\n",
      " 38%|███▊      | 5/13 [13:26<21:30, 161.29s/it]\u001b[A\u001b[A\u001b[A\n",
      "\n",
      "\n",
      " 46%|████▌     | 6/13 [16:33<19:19, 165.65s/it]\u001b[A\u001b[A\u001b[A\n",
      "\n",
      "\n",
      " 54%|█████▍    | 7/13 [19:14<16:29, 164.92s/it]\u001b[A\u001b[A\u001b[A\n",
      "\n",
      "\n",
      " 62%|██████▏   | 8/13 [22:00<13:45, 165.01s/it]\u001b[A\u001b[A\u001b[A\n",
      "\n",
      "\n",
      " 69%|██████▉   | 9/13 [24:43<10:59, 164.79s/it]\u001b[A\u001b[A\u001b[A\n",
      "\n",
      "\n",
      " 77%|███████▋  | 10/13 [27:37<08:17, 165.75s/it]\u001b[A\u001b[A\u001b[A\n",
      "\n",
      "\n",
      " 85%|████████▍ | 11/13 [31:01<05:38, 169.19s/it]\u001b[A\u001b[A\u001b[A\n",
      "\n",
      "\n",
      " 92%|█████████▏| 12/13 [33:39<02:48, 168.32s/it]\u001b[A\u001b[A\u001b[A\n",
      "\n",
      "\n",
      "100%|██████████| 13/13 [36:23<00:00, 167.97s/it]\u001b[A\u001b[A\u001b[A\n",
      "\n",
      "\n",
      "\u001b[A\u001b[A\u001b[A"
     ]
    }
   ],
   "source": [
    "def save_df(path,df):\n",
    "    df.to_csv(path,sep=\"|\",index=False)\n",
    "\n",
    "input_files = os.listdir(\"/home/soeren/Documents/TextDifficultyAssessmentGerman/datasets/RandomText/FeatureSet2_LD\")\n",
    "input_files = [\"01_Preprocessing_df.csv\"]\n",
    "\n",
    "for input_file in input_files:\n",
    "    df = pd.read_csv(\"datasets/RandomText/FeatureSet2_LD/\" + input_file, sep=\"|\", lineterminator = '\\n')\n",
    "\n",
    "    for function in tqdm(LV_feature_functions):\n",
    "        df[\"LV-\"+function.__name__]  = [function(text) for text in df[\"Text\"]]\n",
    "\n",
    "    filename = \"datasets/RandomText/FeatureSet3_LV/\" + input_file\n",
    "    save_df(filename, df)"
   ]
  },
  {
   "cell_type": "code",
   "execution_count": null,
   "metadata": {},
   "outputs": [],
   "source": []
  },
  {
   "cell_type": "code",
   "execution_count": null,
   "metadata": {},
   "outputs": [],
   "source": []
  }
 ],
 "metadata": {
  "kernelspec": {
   "display_name": "Python 3",
   "language": "python",
   "name": "python3"
  },
  "language_info": {
   "codemirror_mode": {
    "name": "ipython",
    "version": 3
   },
   "file_extension": ".py",
   "mimetype": "text/x-python",
   "name": "python",
   "nbconvert_exporter": "python",
   "pygments_lexer": "ipython3",
   "version": "3.6.4"
  }
 },
 "nbformat": 4,
 "nbformat_minor": 2
}
