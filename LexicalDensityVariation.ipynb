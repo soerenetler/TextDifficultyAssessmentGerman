{
 "cells": [
  {
   "cell_type": "markdown",
   "metadata": {},
   "source": [
    "## Lexical Density and Variation Features"
   ]
  },
  {
   "cell_type": "code",
   "execution_count": 2,
   "metadata": {},
   "outputs": [],
   "source": [
    "from collections import Counter, defaultdict\n",
    "import de_core_news_sm\n",
    "from math import sqrt, log\n",
    "from nltk import word_tokenize\n",
    "import numpy as np\n",
    "import pandas as pd"
   ]
  },
  {
   "cell_type": "code",
   "execution_count": 3,
   "metadata": {},
   "outputs": [],
   "source": [
    "df = pd.read_csv(\"preprocessed_text_df.csv\", lineterminator = '\\n')"
   ]
  },
  {
   "cell_type": "code",
   "execution_count": 4,
   "metadata": {},
   "outputs": [],
   "source": [
    "#Lexical Density #Tok Lex / #Tok \n",
    "#Lexical Word Variation #Typ Lex / #Tok Lex \n",
    "#Noun Variation #Typ Noun / #Tok Lex\n",
    "#Adjective Variation #Typ Adj / #Tok Lex\n",
    "#Adverb Variation #Typ Adv / #Tok Lex\n",
    "#Modifer Variation (#Typ Adj + #Typ Adv) / #Tok Lex \n",
    "#Verb Variation 2 #Typ Verb / #Tok Verb \n",
    "#Verb Variation 1 #Typ Verb / #Tok Lex\n",
    "#Squared Verb Variation 1 #Typ Verb^2 / #Tok Verb \n",
    "#Corrected Verb Variation 1 #Typ Verb / sqrt(2*#Tok Verb) \n",
    "#Verb Token Ratio #Tok Verb/#Tok\n",
    "#Noun Token Ratio #Tok Noun/#Tok \n",
    "#Verb-Noun Token Ratio #Tok Verb/#Tok Noun "
   ]
  },
  {
   "cell_type": "code",
   "execution_count": 5,
   "metadata": {},
   "outputs": [],
   "source": [
    "nlp = de_core_news_sm.load()"
   ]
  },
  {
   "cell_type": "code",
   "execution_count": 6,
   "metadata": {},
   "outputs": [],
   "source": [
    "lexical_tags = [\"ADJA\", \"ADJD\", \"ADV\", \"NE\", \"NNE\", \"NN\", \"VVFIN\", \"VVIMP\", \"VVINF\", \"VVIZU\", \"VVPP\"]"
   ]
  },
  {
   "cell_type": "code",
   "execution_count": 7,
   "metadata": {},
   "outputs": [],
   "source": [
    "def lexical_density(text):\n",
    "    doc = nlp(text)\n",
    "    no_lex = len([tok for tok in doc if tok.tag_ in lexical_tags])\n",
    "    return no_lex / len(doc)"
   ]
  },
  {
   "cell_type": "code",
   "execution_count": 8,
   "metadata": {},
   "outputs": [],
   "source": [
    "def lexical_word_variation(text):\n",
    "    doc = nlp(text)\n",
    "    no_lex = [str(tok) for tok in doc if tok.tag_ in lexical_tags]\n",
    "    return len(set(no_lex)) / len(no_lex)\n",
    "    "
   ]
  },
  {
   "cell_type": "code",
   "execution_count": 9,
   "metadata": {},
   "outputs": [],
   "source": [
    "def pos_variation(text, pos):\n",
    "    doc = nlp(text)\n",
    "    no_nouns = len([tok for tok in doc if tok.pos_ == pos])\n",
    "    no_lex = len([tok for tok in doc if tok.tag_ in lexical_tags])\n",
    "    return no_nouns / no_lex"
   ]
  },
  {
   "cell_type": "code",
   "execution_count": 10,
   "metadata": {},
   "outputs": [],
   "source": [
    "def noun_variation(text):\n",
    "    return pos_variation(text, \"NOUN\")"
   ]
  },
  {
   "cell_type": "code",
   "execution_count": 11,
   "metadata": {},
   "outputs": [],
   "source": [
    "def adj_variation(text):\n",
    "    return pos_variation(text, \"ADJ\")"
   ]
  },
  {
   "cell_type": "code",
   "execution_count": 12,
   "metadata": {},
   "outputs": [],
   "source": [
    "def adv_variation(text):\n",
    "    return pos_variation(text, \"ADV\")"
   ]
  },
  {
   "cell_type": "code",
   "execution_count": 13,
   "metadata": {},
   "outputs": [],
   "source": [
    "def modifier_variation(text):\n",
    "    doc = nlp(text)\n",
    "    no_mods = len([tok for tok in doc if tok.pos_ == \"ADJ\"  or tok.pos_ == \"ADV\"])\n",
    "    no_lex = len([tok for tok in doc if tok.tag_ in lexical_tags])\n",
    "    return no_mods / no_lex"
   ]
  },
  {
   "cell_type": "code",
   "execution_count": 14,
   "metadata": {},
   "outputs": [],
   "source": [
    "def verb_variation1(text):\n",
    "    return pos_variation(text, \"VERB\")"
   ]
  },
  {
   "cell_type": "code",
   "execution_count": 15,
   "metadata": {},
   "outputs": [],
   "source": [
    "def verb_variation2(text):\n",
    "    doc = nlp(text)\n",
    "    verbs = [str(tok) for tok in doc if tok.pos_ == \"VERB\"]\n",
    "    if len(verbs) != 0:\n",
    "        return len(set(verbs)) / len(verbs)\n",
    "    else:\n",
    "        return 0"
   ]
  },
  {
   "cell_type": "code",
   "execution_count": 16,
   "metadata": {},
   "outputs": [],
   "source": [
    "def squared_verb_variation(text):\n",
    "    doc = nlp(text)\n",
    "    verbs = [str(tok) for tok in doc if tok.pos_ == \"VERB\"]\n",
    "    if len(verbs) != 0:\n",
    "        return (len(set(verbs)) ** 2) / len(verbs)\n",
    "    else:\n",
    "        return 0"
   ]
  },
  {
   "cell_type": "code",
   "execution_count": 25,
   "metadata": {},
   "outputs": [],
   "source": [
    "def corrected_verb_variation(text):\n",
    "    doc = nlp(text)\n",
    "    verbs = [str(tok) for tok in doc if tok.pos_ == \"VERB\"]\n",
    "    if len(verbs) != 0:\n",
    "        return len(set(verbs)) / (sqrt(2 * len(verbs)))\n",
    "    else:\n",
    "        return 0"
   ]
  },
  {
   "cell_type": "code",
   "execution_count": 18,
   "metadata": {},
   "outputs": [],
   "source": [
    "def verb_token_ratio(text):\n",
    "    doc = nlp(text)\n",
    "    verbs = [str(tok) for tok in doc if tok.pos_ == \"VERB\"]\n",
    "    return len(verbs) / len(doc)"
   ]
  },
  {
   "cell_type": "code",
   "execution_count": 19,
   "metadata": {},
   "outputs": [],
   "source": [
    "def noun_token_ratio(text):\n",
    "    doc = nlp(text)\n",
    "    nouns = [str(tok) for tok in doc if tok.pos_ == \"NOUN\"]\n",
    "    return len(nouns) / len(doc)"
   ]
  },
  {
   "cell_type": "code",
   "execution_count": 20,
   "metadata": {},
   "outputs": [],
   "source": [
    "def verb_noun_token_ratio(text):\n",
    "    doc = nlp(text)\n",
    "    nouns = [str(tok) for tok in doc if tok.pos_ == \"NOUN\"]\n",
    "    verbs = [str(tok) for tok in doc if tok.pos_ == \"VERB\"]\n",
    "    if len(nouns) != 0:\n",
    "        return len(verbs) / len(nouns)\n",
    "    else:\n",
    "        return 0"
   ]
  },
  {
   "cell_type": "code",
   "execution_count": 28,
   "metadata": {},
   "outputs": [],
   "source": [
    "LV_feature_functions = [lexical_density, lexical_word_variation, noun_variation, adj_variation, adv_variation, \n",
    "                        modifier_variation, verb_variation1, verb_variation2, squared_verb_variation, \n",
    "                        corrected_verb_variation, verb_token_ratio, noun_token_ratio, verb_noun_token_ratio]"
   ]
  },
  {
   "cell_type": "code",
   "execution_count": 31,
   "metadata": {},
   "outputs": [],
   "source": [
    "for function in LV_feature_functions:\n",
    "    df[\"LV-\"+function.__name__]  = [function(text) for text in df[\"cleanedText\"]]"
   ]
  },
  {
   "cell_type": "code",
   "execution_count": 33,
   "metadata": {},
   "outputs": [],
   "source": [
    "filename = \"LV_features_df.csv\"\n",
    "df.to_csv(filename)"
   ]
  },
  {
   "cell_type": "code",
   "execution_count": 32,
   "metadata": {},
   "outputs": [
    {
     "data": {
      "text/html": [
       "<div>\n",
       "<style scoped>\n",
       "    .dataframe tbody tr th:only-of-type {\n",
       "        vertical-align: middle;\n",
       "    }\n",
       "\n",
       "    .dataframe tbody tr th {\n",
       "        vertical-align: top;\n",
       "    }\n",
       "\n",
       "    .dataframe thead th {\n",
       "        text-align: right;\n",
       "    }\n",
       "</style>\n",
       "<table border=\"1\" class=\"dataframe\">\n",
       "  <thead>\n",
       "    <tr style=\"text-align: right;\">\n",
       "      <th></th>\n",
       "      <th>Unnamed: 0</th>\n",
       "      <th>Level</th>\n",
       "      <th>Title</th>\n",
       "      <th>Text</th>\n",
       "      <th>Source</th>\n",
       "      <th>Type</th>\n",
       "      <th>cleanedText</th>\n",
       "      <th>RFTagger</th>\n",
       "      <th>parsedText</th>\n",
       "      <th>LV-lexical_density</th>\n",
       "      <th>...</th>\n",
       "      <th>LV-adj_variation</th>\n",
       "      <th>LV-adv_variation</th>\n",
       "      <th>LV-modifier_variation</th>\n",
       "      <th>LV-verb_variation1</th>\n",
       "      <th>LV-verb_variation2</th>\n",
       "      <th>LV-squared_verb_variation</th>\n",
       "      <th>LV-corrected_verb_variation</th>\n",
       "      <th>LV-verb_token_ratio</th>\n",
       "      <th>LV-noun_token_ratio</th>\n",
       "      <th>LV-verb_noun_token_ratio</th>\n",
       "    </tr>\n",
       "  </thead>\n",
       "  <tbody>\n",
       "    <tr>\n",
       "      <th>0</th>\n",
       "      <td>0</td>\n",
       "      <td>A1</td>\n",
       "      <td>Meine Familie</td>\n",
       "      <td>Zu meiner Familie gehören vier Personen. Die M...</td>\n",
       "      <td>https://german.net/reading/familie/</td>\n",
       "      <td>Reading</td>\n",
       "      <td>Zu meiner Familie gehören vier Personen. Die M...</td>\n",
       "      <td>[[['Zu', 'APPR', 'Dat'], ['meiner', 'PRO', 'Po...</td>\n",
       "      <td>['(ROOT (S (PP (APPR Zu) (PPOSAT meiner) (NN F...</td>\n",
       "      <td>0.436975</td>\n",
       "      <td>...</td>\n",
       "      <td>0.076923</td>\n",
       "      <td>0.250000</td>\n",
       "      <td>0.326923</td>\n",
       "      <td>0.250000</td>\n",
       "      <td>0.846154</td>\n",
       "      <td>9.307692</td>\n",
       "      <td>2.157277</td>\n",
       "      <td>0.109244</td>\n",
       "      <td>0.201681</td>\n",
       "      <td>0.541667</td>\n",
       "    </tr>\n",
       "    <tr>\n",
       "      <th>1</th>\n",
       "      <td>1</td>\n",
       "      <td>A1</td>\n",
       "      <td>Maria und ihre Familie</td>\n",
       "      <td>Mein Name ist Maria. Ich bin 30 Jahre alt. Zu ...</td>\n",
       "      <td>https://german.net/reading/marias-familie/</td>\n",
       "      <td>Reading</td>\n",
       "      <td>Mein Name ist Maria. Ich bin 30 Jahre alt. Zu ...</td>\n",
       "      <td>[[['Mein', 'PRO', 'Poss', 'Attr', '-', 'Nom', ...</td>\n",
       "      <td>['(ROOT (S (NP (PPOSAT Mein) (NN Name)) (VAFIN...</td>\n",
       "      <td>0.424419</td>\n",
       "      <td>...</td>\n",
       "      <td>0.109589</td>\n",
       "      <td>0.136986</td>\n",
       "      <td>0.246575</td>\n",
       "      <td>0.164384</td>\n",
       "      <td>0.916667</td>\n",
       "      <td>10.083333</td>\n",
       "      <td>2.245366</td>\n",
       "      <td>0.069767</td>\n",
       "      <td>0.197674</td>\n",
       "      <td>0.352941</td>\n",
       "    </tr>\n",
       "    <tr>\n",
       "      <th>2</th>\n",
       "      <td>2</td>\n",
       "      <td>A1</td>\n",
       "      <td>Ich bin Tom</td>\n",
       "      <td>Hallo! Ich bin Tom Maier. Ich bin 13 Jahre alt...</td>\n",
       "      <td>https://german.net/reading/tom/</td>\n",
       "      <td>Reading</td>\n",
       "      <td>Hallo! Ich bin Tom Maier. Ich bin 13 Jahre alt...</td>\n",
       "      <td>[[['Hallo', 'ITJ'], ['!', 'SYM', 'Pun', 'Sent'...</td>\n",
       "      <td>['(ROOT (NUR (ITJ Hallo) ($. !)))', '(ROOT (S ...</td>\n",
       "      <td>0.376923</td>\n",
       "      <td>...</td>\n",
       "      <td>0.081633</td>\n",
       "      <td>0.102041</td>\n",
       "      <td>0.183673</td>\n",
       "      <td>0.122449</td>\n",
       "      <td>0.666667</td>\n",
       "      <td>2.666667</td>\n",
       "      <td>1.154701</td>\n",
       "      <td>0.046154</td>\n",
       "      <td>0.207692</td>\n",
       "      <td>0.222222</td>\n",
       "    </tr>\n",
       "    <tr>\n",
       "      <th>3</th>\n",
       "      <td>3</td>\n",
       "      <td>A1</td>\n",
       "      <td>Freundinnen</td>\n",
       "      <td>Ricarda ist 21 Jahre alt und wohnt in Lübeck. ...</td>\n",
       "      <td>https://german.net/reading/freundinnen/</td>\n",
       "      <td>Reading</td>\n",
       "      <td>Ricarda ist 21 Jahre alt und wohnt in Lübeck. ...</td>\n",
       "      <td>[[['Ricarda', 'N', 'Name', 'Nom', 'Sg', 'Fem']...</td>\n",
       "      <td>['(ROOT (CS (S (NE Ricarda) (VAFIN ist) (AP (N...</td>\n",
       "      <td>0.547826</td>\n",
       "      <td>...</td>\n",
       "      <td>0.095238</td>\n",
       "      <td>0.206349</td>\n",
       "      <td>0.301587</td>\n",
       "      <td>0.238095</td>\n",
       "      <td>0.666667</td>\n",
       "      <td>6.666667</td>\n",
       "      <td>1.825742</td>\n",
       "      <td>0.130435</td>\n",
       "      <td>0.139130</td>\n",
       "      <td>0.937500</td>\n",
       "    </tr>\n",
       "    <tr>\n",
       "      <th>4</th>\n",
       "      <td>4</td>\n",
       "      <td>A1</td>\n",
       "      <td>Einkaufen im Supermarkt</td>\n",
       "      <td>Frau Meier geht heute in den Supermarkt. Ihr M...</td>\n",
       "      <td>https://german.net/reading/einkaufen/</td>\n",
       "      <td>Reading</td>\n",
       "      <td>Frau Meier geht heute in den Supermarkt. Ihr M...</td>\n",
       "      <td>[[['Frau', 'N', 'Reg', 'Nom', 'Sg', 'Fem'], ['...</td>\n",
       "      <td>['(ROOT (S (NP (NN Frau) (NE Meier)) (VVFIN ge...</td>\n",
       "      <td>0.487973</td>\n",
       "      <td>...</td>\n",
       "      <td>0.056338</td>\n",
       "      <td>0.112676</td>\n",
       "      <td>0.169014</td>\n",
       "      <td>0.211268</td>\n",
       "      <td>0.600000</td>\n",
       "      <td>10.800000</td>\n",
       "      <td>2.323790</td>\n",
       "      <td>0.103093</td>\n",
       "      <td>0.247423</td>\n",
       "      <td>0.416667</td>\n",
       "    </tr>\n",
       "  </tbody>\n",
       "</table>\n",
       "<p>5 rows × 22 columns</p>\n",
       "</div>"
      ],
      "text/plain": [
       "   Unnamed: 0 Level                    Title  \\\n",
       "0           0    A1            Meine Familie   \n",
       "1           1    A1   Maria und ihre Familie   \n",
       "2           2    A1              Ich bin Tom   \n",
       "3           3    A1              Freundinnen   \n",
       "4           4    A1  Einkaufen im Supermarkt   \n",
       "\n",
       "                                                Text  \\\n",
       "0  Zu meiner Familie gehören vier Personen. Die M...   \n",
       "1  Mein Name ist Maria. Ich bin 30 Jahre alt. Zu ...   \n",
       "2  Hallo! Ich bin Tom Maier. Ich bin 13 Jahre alt...   \n",
       "3  Ricarda ist 21 Jahre alt und wohnt in Lübeck. ...   \n",
       "4  Frau Meier geht heute in den Supermarkt. Ihr M...   \n",
       "\n",
       "                                       Source     Type  \\\n",
       "0         https://german.net/reading/familie/  Reading   \n",
       "1  https://german.net/reading/marias-familie/  Reading   \n",
       "2             https://german.net/reading/tom/  Reading   \n",
       "3     https://german.net/reading/freundinnen/  Reading   \n",
       "4       https://german.net/reading/einkaufen/  Reading   \n",
       "\n",
       "                                         cleanedText  \\\n",
       "0  Zu meiner Familie gehören vier Personen. Die M...   \n",
       "1  Mein Name ist Maria. Ich bin 30 Jahre alt. Zu ...   \n",
       "2  Hallo! Ich bin Tom Maier. Ich bin 13 Jahre alt...   \n",
       "3  Ricarda ist 21 Jahre alt und wohnt in Lübeck. ...   \n",
       "4  Frau Meier geht heute in den Supermarkt. Ihr M...   \n",
       "\n",
       "                                            RFTagger  \\\n",
       "0  [[['Zu', 'APPR', 'Dat'], ['meiner', 'PRO', 'Po...   \n",
       "1  [[['Mein', 'PRO', 'Poss', 'Attr', '-', 'Nom', ...   \n",
       "2  [[['Hallo', 'ITJ'], ['!', 'SYM', 'Pun', 'Sent'...   \n",
       "3  [[['Ricarda', 'N', 'Name', 'Nom', 'Sg', 'Fem']...   \n",
       "4  [[['Frau', 'N', 'Reg', 'Nom', 'Sg', 'Fem'], ['...   \n",
       "\n",
       "                                        parsedText\\r  LV-lexical_density  \\\n",
       "0  ['(ROOT (S (PP (APPR Zu) (PPOSAT meiner) (NN F...            0.436975   \n",
       "1  ['(ROOT (S (NP (PPOSAT Mein) (NN Name)) (VAFIN...            0.424419   \n",
       "2  ['(ROOT (NUR (ITJ Hallo) ($. !)))', '(ROOT (S ...            0.376923   \n",
       "3  ['(ROOT (CS (S (NE Ricarda) (VAFIN ist) (AP (N...            0.547826   \n",
       "4  ['(ROOT (S (NP (NN Frau) (NE Meier)) (VVFIN ge...            0.487973   \n",
       "\n",
       "             ...             LV-adj_variation  LV-adv_variation  \\\n",
       "0            ...                     0.076923          0.250000   \n",
       "1            ...                     0.109589          0.136986   \n",
       "2            ...                     0.081633          0.102041   \n",
       "3            ...                     0.095238          0.206349   \n",
       "4            ...                     0.056338          0.112676   \n",
       "\n",
       "   LV-modifier_variation  LV-verb_variation1  LV-verb_variation2  \\\n",
       "0               0.326923            0.250000            0.846154   \n",
       "1               0.246575            0.164384            0.916667   \n",
       "2               0.183673            0.122449            0.666667   \n",
       "3               0.301587            0.238095            0.666667   \n",
       "4               0.169014            0.211268            0.600000   \n",
       "\n",
       "   LV-squared_verb_variation  LV-corrected_verb_variation  \\\n",
       "0                   9.307692                     2.157277   \n",
       "1                  10.083333                     2.245366   \n",
       "2                   2.666667                     1.154701   \n",
       "3                   6.666667                     1.825742   \n",
       "4                  10.800000                     2.323790   \n",
       "\n",
       "   LV-verb_token_ratio  LV-noun_token_ratio  LV-verb_noun_token_ratio  \n",
       "0             0.109244             0.201681                  0.541667  \n",
       "1             0.069767             0.197674                  0.352941  \n",
       "2             0.046154             0.207692                  0.222222  \n",
       "3             0.130435             0.139130                  0.937500  \n",
       "4             0.103093             0.247423                  0.416667  \n",
       "\n",
       "[5 rows x 22 columns]"
      ]
     },
     "execution_count": 32,
     "metadata": {},
     "output_type": "execute_result"
    }
   ],
   "source": [
    "df.head()"
   ]
  },
  {
   "cell_type": "code",
   "execution_count": null,
   "metadata": {},
   "outputs": [],
   "source": []
  }
 ],
 "metadata": {
  "kernelspec": {
   "display_name": "Python 3",
   "language": "python",
   "name": "python3"
  },
  "language_info": {
   "codemirror_mode": {
    "name": "ipython",
    "version": 3
   },
   "file_extension": ".py",
   "mimetype": "text/x-python",
   "name": "python",
   "nbconvert_exporter": "python",
   "pygments_lexer": "ipython3",
   "version": "3.6.5"
  }
 },
 "nbformat": 4,
 "nbformat_minor": 2
}
