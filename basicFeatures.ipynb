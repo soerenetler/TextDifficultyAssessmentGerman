{
 "cells": [
  {
   "cell_type": "code",
   "execution_count": 1,
   "metadata": {},
   "outputs": [
    {
     "name": "stdout",
     "output_type": "stream",
     "text": [
      "[nltk_data] Downloading package punkt to /home/soeren/nltk_data...\n",
      "[nltk_data]   Package punkt is already up-to-date!\n"
     ]
    }
   ],
   "source": [
    "import nltk\n",
    "nltk.download('punkt')\n",
    "import pyphen\n",
    "import numpy as np\n",
    "import pandas as pd\n",
    "import matplotlib.pyplot as plt\n",
    "from nltk.tokenize import sent_tokenize, word_tokenize\n",
    "from numpy import random\n",
    "\n",
    "def average_sentence_length(preprocessed_text):\n",
    "    ''' Average length of a sentence. All characters and symbols are included.'''\n",
    "    return np.mean([len(sentence) for sentence in preprocessed_text])\n",
    "\n",
    "def average_syllable_word(preprocessed_text):\n",
    "    '''Average length of a sentence. SYM are excluded and not counted'''\n",
    "    pyphen.language_fallback('de_DE_variant1')\n",
    "    dic = pyphen.Pyphen(lang='de_DE')\n",
    "    counts = []\n",
    "    for sentence in preprocessed_text:\n",
    "        for word in sentence:\n",
    "            if word[1]!=\"SYM\":\n",
    "                counts.append(syllable_count(word[0], dic))\n",
    "    \n",
    "    return np.mean(counts)\n",
    "\n",
    "def syllable_count(string, dic):\n",
    "    '''The number of syllables of a string is returned'''\n",
    "    return len(dic.inserted(string).split(\"-\"))\n",
    "\n",
    "def Flesch_Reading_Ease_Score(preprocessed_text):\n",
    "    ''' On a given text the score will produce a value between 1 and 100 where the higher\n",
    "    the value the easier the text would be. Documents scoring 30 are very difficult to\n",
    "    read while those scoring 70 should be easy to read.'''\n",
    "    asl = average_sentence_length(preprocessed_text)\n",
    "    asw = average_syllable_word(preprocessed_text)\n",
    "    \n",
    "    return 206.835 - (1.015 * asl) - (84.6 * asw)\n",
    "\n",
    "def Flesch_Kincaid_readability(preprocessed_text):\n",
    "    '''The Flesch-Kincaid readability formula (2.2) simplifies the Flesch score to produce a “grade\n",
    "    level” which is easily interpretable (i.e., a text with a grade level of eight according to the formula\n",
    "    could be thought appropriate for an eighth grader).'''\n",
    "    asl = average_sentence_length(preprocessed_text)\n",
    "    asw = average_syllable_word(preprocessed_text)\n",
    "    \n",
    "    return (0.4 * asl) + (12 * asw) - 15\n",
    "\n",
    "def percentag_hard_words(preprocessed_text):\n",
    "    pyphen.language_fallback('de_DE_variant1')\n",
    "    dic = pyphen.Pyphen(lang='de_DE')\n",
    "    count_hard_words=0\n",
    "    length=0\n",
    "    for sentence in preprocessed_text:\n",
    "        for word in sentence:\n",
    "            if word[1]!=\"SYM\":\n",
    "                length+=1\n",
    "                if syllable_count(word[0], dic)>=3:\n",
    "                    count_hard_words+=1\n",
    "            \n",
    "    return count_hard_words/length\n",
    "                \n",
    "def fog(preprocessed_text):\n",
    "    hw = percentag_hard_words(preprocessed_text)\n",
    "    asl = average_sentence_length(preprocessed_text)\n",
    "                \n",
    "    return 0.4 * (hw + asl)\n",
    "\n",
    "def polysyllable_count(preprocessed_text):\n",
    "    '''the number of words with 3 or more syllables in 30 sentences\n",
    "    which shall be picked from the beginning, middle, and end of the document.'''\n",
    "    pyphen.language_fallback('de_DE_variant1')\n",
    "    dic = pyphen.Pyphen(lang='de_DE')\n",
    "    part_len = int(len(preprocessed_text)/3)\n",
    "    \n",
    "    if part_len > 10:\n",
    "        beginning_sentences = preprocessed_text[:part_len]\n",
    "        middle_sentences = preprocessed_text[part_len:-part_len]\n",
    "        end_sentences = preprocessed_text[-part_len:]\n",
    "        picked_sentences = random.choice(beginning_sentences, 10) + random.choice(middle_sentences, 10) + random.choice(end_sentences, 10)\n",
    "    else:\n",
    "        picked_sentences = preprocessed_text\n",
    "    \n",
    "    polysyllable_count = 0\n",
    "    for sentence in picked_sentences:\n",
    "        for word in sentence:\n",
    "            if syllable_count(word[0], dic)>=3:\n",
    "                polysyllable_count+=1\n",
    "    \n",
    "    return polysyllable_count\n",
    "\n",
    "def smog(preprocessed_text):\n",
    "    psc = polysyllable_count(preprocessed_text)\n",
    "    return 3 + np.sqrt(psc)"
   ]
  },
  {
   "cell_type": "code",
   "execution_count": 5,
   "metadata": {},
   "outputs": [],
   "source": [
    "df=pd.read_csv(\"preprocessed_text_df.csv\")\n",
    "import ast\n",
    "\n",
    "df[\"preprocessedText\"]  = [ast.literal_eval(text) for text in df[\"preprocessedText\"]]\n",
    "df[\"average_sentence_length\"] = [average_sentence_length(text) for text in df[\"preprocessedText\"]]\n",
    "df[\"average_syllable_word\"] = [average_syllable_word(text) for text in df[\"preprocessedText\"]]\n",
    "df[\"Flesch_Reading_Ease_Score\"] = [Flesch_Reading_Ease_Score(text) for text in df[\"preprocessedText\"]]\n",
    "df[\"Flesch_Kincaid_readability\"] = [Flesch_Kincaid_readability(text) for text in df[\"preprocessedText\"]]\n",
    "df[\"percentag_hard_words\"] = [percentag_hard_words(text) for text in df[\"preprocessedText\"]]\n",
    "df[\"fog\"] = [fog(text) for text in df[\"preprocessedText\"]]\n",
    "df[\"polysyllable_count\"] = [polysyllable_count(text) for text in df[\"preprocessedText\"]]\n",
    "df[\"smog\"] = [smog(text) for text in df[\"preprocessedText\"]]\n",
    "df.head()\n",
    "filename = \"basic_features_df.csv\"\n",
    "df.to_csv(filename)"
   ]
  },
  {
   "cell_type": "code",
   "execution_count": 4,
   "metadata": {},
   "outputs": [
    {
     "data": {
      "image/png": "[encoded data removed]",
      "text/plain": [
       "<matplotlib.figure.Figure at 0x7fcca2513ac8>"
      ]
     },
     "metadata": {},
     "output_type": "display_data"
    }
   ],
   "source": [
    "plt.scatter(df[\"Level\"], df[\"average_sentence_length\"])\n",
    "plt.title(\"average_sentence_length\")\n",
    "plt.show()"
   ]
  }
 ],
 "metadata": {
  "kernelspec": {
   "display_name": "Python 3",
   "language": "python",
   "name": "python3"
  },
  "language_info": {
   "codemirror_mode": {
    "name": "ipython",
    "version": 3
   },
   "file_extension": ".py",
   "mimetype": "text/x-python",
   "name": "python",
   "nbconvert_exporter": "python",
   "pygments_lexer": "ipython3",
   "version": "3.6.4"
  }
 },
 "nbformat": 4,
 "nbformat_minor": 2
}
